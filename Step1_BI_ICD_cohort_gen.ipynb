{
 "cells": [
  {
   "cell_type": "code",
   "execution_count": 1,
   "metadata": {},
   "outputs": [],
   "source": [
    "##Installing necessary modules to run the code. Make sure to install thunderpack if not yet installed: pip install thunderpack\n",
    "import numpy as np\n",
    "import pandas as pd\n",
    "from tqdm import tqdm\n",
    "from thunderpack import ThunderReader  \n",
    "import gc"
   ]
  },
  {
   "cell_type": "code",
   "execution_count": 2,
   "metadata": {},
   "outputs": [
    {
     "name": "stderr",
     "output_type": "stream",
     "text": [
      "100%|██████████| 36/36 [00:46<00:00,  1.29s/it]\n"
     ]
    }
   ],
   "source": [
    "##We are now creating the sampling cohort for positive ICD codes for BIDMC.\n",
    "#reminder: ICD+ group is defined as patients who received at least one SDH-related ICD\n",
    "\n",
    "#read the thunderpack file\n",
    "reader = ThunderReader('/media/gregory178/Thunderpacks/Dropbox/zz_EHR_Thunderpacks/BIDMC/thunderpack_icd_9_10_nax_1m_BIDMC')\n",
    "\n",
    "dfs = []\n",
    "\n",
    "#Creating a for loop that goes over all the keys to search for whether or not it contains the following ICD+ codes.\n",
    "#Concatenate all filtered dataframes from all partitions into one dataframe\n",
    "for i in tqdm(range(1, (len(list(reader.keys()))+1))):  \n",
    "    df = reader[f'ICD_partition_{i}']\n",
    "    df = df[df.DiagnosisCodeWithDots.astype(str).str.contains('^(?:I62.0|S06.5|432.1|852.2|852.3)')]  \n",
    "    dfs.append(df)\n",
    "df_icd_plus_BI = pd.concat(dfs, axis=0, ignore_index=True)  \n",
    "\n",
    "# keep unique patient IDs and save as CSV file\n",
    "df_icd_plus_BI = df_icd_plus_BI[['BDSPPatientID','AdmissionDate','BDSPEncounterID', 'DiagnosisCodeWithDots']].drop_duplicates()\n",
    "df_icd_plus_BI.to_csv('patientIDs_ICD_plus_SDH_BI.csv', index=False)    \n"
   ]
  },
  {
   "cell_type": "code",
   "execution_count": 3,
   "metadata": {},
   "outputs": [
    {
     "name": "stderr",
     "output_type": "stream",
     "text": [
      "100%|██████████| 36/36 [01:07<00:00,  1.89s/it]\n"
     ]
    }
   ],
   "source": [
    "#Loading in the positive ICD group for BIDMC\n",
    "df_icd_plus_BI = pd.read_csv('patientIDs_ICD_plus_SDH_BI.csv') \n",
    "\n",
    "# reminder: ICD minus group is defined as patients who never have received any SDH-related ICDs\n",
    "dfs = []\n",
    "\n",
    "#Creating a for loop that goes over all the keys to search for whether it contains the following ICD+ codes so it can leave them out. \n",
    "for i in tqdm(range(1, (len(list(reader.keys()))+1))):   \n",
    "    df = reader[f'ICD_partition_{i}']\n",
    "    df = df[~df.DiagnosisCodeWithDots.astype(str).str.contains('^(?:I62.0|S06.5|432.1|852.2|852.3)')]  \n",
    "    df = df[['BDSPPatientID','AdmissionDate','BDSPEncounterID','DiagnosisCodeWithDots']]\n",
    "    dfs.append(df)\n",
    "\n",
    "    # to further save space, delete df\n",
    "    del df\n",
    "    gc.collect()\n",
    "\n",
    "# Concatenate all filtered dataframes from all partitions into one dataframe\n",
    "df_icd_minus_BI = pd.concat(dfs, axis=0, ignore_index=True)  \n",
    "df_icd_minus_BI = df_icd_minus_BI[['BDSPPatientID','AdmissionDate','BDSPEncounterID']].drop_duplicates()\n",
    "\n",
    "# because we should make sure these are patients who never got any SDH ICDs\n",
    "# therefore we should remove patients who are included in the df_icd_plus\n",
    "# conceptually: df_icd_minus = df_icd_minus - df_icd_plus\n",
    "\n",
    "df_icd_minus_BI = df_icd_minus_BI[ ~np.in1d(df_icd_minus_BI.BDSPPatientID, df_icd_plus_BI.BDSPPatientID) ]\n",
    "\n",
    "#Save as a CSV file\n",
    "df_icd_minus_BI.to_csv('patientIDs_ICD_minus2_SDH_BI.csv', index=False)   \n",
    "\n"
   ]
  }
 ],
 "metadata": {
  "kernelspec": {
   "display_name": "Python 3",
   "language": "python",
   "name": "python3"
  },
  "language_info": {
   "codemirror_mode": {
    "name": "ipython",
    "version": 3
   },
   "file_extension": ".py",
   "mimetype": "text/x-python",
   "name": "python",
   "nbconvert_exporter": "python",
   "pygments_lexer": "ipython3",
   "version": "3.11.9"
  }
 },
 "nbformat": 4,
 "nbformat_minor": 2
}
