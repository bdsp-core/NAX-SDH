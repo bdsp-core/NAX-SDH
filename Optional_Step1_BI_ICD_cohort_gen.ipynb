{
 "cells": [
  {
   "cell_type": "code",
   "execution_count": 1,
   "metadata": {},
   "outputs": [],
   "source": [
    "##Installing all the necessary modules to run the following code. \n",
    "#Make sure to install thunderpack if not yet installed: \"pip install thunderpack\".\n",
    "#Steps 1-5 are optional, only if you want to recreate a new sampling cohort. This will randomly select patient notes. \n",
    "#Steps 1-25 are if you want to recreate the data from this study using the sampling cohorts we made using optioanl steps 1-5 with randomization.  \n"
   ]
  },
  {
   "cell_type": "code",
   "execution_count": null,
   "metadata": {},
   "outputs": [],
   "source": [
    "#Optional step 1 creates the samping cohort for positive ICD codes for Beth Israel Deaconess Medical Center (BIDMC)\n",
    "#Reminder: ICD+ group is defined as patients who received at least one SDH-related ICD."
   ]
  },
  {
   "cell_type": "code",
   "execution_count": null,
   "metadata": {},
   "outputs": [],
   "source": [
    "#Import the nessary modules\n",
    "import numpy as np\n",
    "import pandas as pd\n",
    "from tqdm import tqdm\n",
    "from thunderpack import ThunderReader  \n",
    "import gc"
   ]
  },
  {
   "cell_type": "code",
   "execution_count": 2,
   "metadata": {},
   "outputs": [
    {
     "name": "stderr",
     "output_type": "stream",
     "text": [
      "100%|██████████| 36/36 [00:47<00:00,  1.32s/it]\n"
     ]
    }
   ],
   "source": [
    "#Read the thunderpack file.\n",
    "reader = ThunderReader('/media/gregory178/Thunderpacks/Dropbox/zz_EHR_Thunderpacks/BIDMC/thunderpack_icd_9_10_nax_1m_BIDMC')\n",
    "\n",
    "dfs = []\n",
    "\n",
    "#Creating a loop that goes over all the keys to search for whether or not it contains the SDH+ ICD codes.\n",
    "#Concatenate all filtered dataframes from all partitions into one dataframe.\n",
    "for i in tqdm(range(1, (len(list(reader.keys()))+1))):  \n",
    "    df = reader[f'ICD_partition_{i}']\n",
    "    df = df[df.DiagnosisCodeWithDots.astype(str).str.contains('^(?:I62.0|S06.5|432.1|852.2|852.3)')]  \n",
    "    dfs.append(df)\n",
    "df_icd_plus_BI = pd.concat(dfs, axis=0, ignore_index=True)  \n",
    "\n",
    "#Keep the unique patient IDs and save them as a CSV file.\n",
    "df_icd_plus_BI = df_icd_plus_BI[['BDSPPatientID','AdmissionDate','BDSPEncounterID', 'DiagnosisCodeWithDots']].drop_duplicates()\n",
    "df_icd_plus_BI.to_csv('patientIDs_ICD_plus_SDH_BI.csv', index=False)    \n"
   ]
  },
  {
   "cell_type": "code",
   "execution_count": 3,
   "metadata": {},
   "outputs": [
    {
     "name": "stderr",
     "output_type": "stream",
     "text": [
      "  0%|          | 0/36 [00:00<?, ?it/s]"
     ]
    },
    {
     "name": "stderr",
     "output_type": "stream",
     "text": [
      "100%|██████████| 36/36 [00:32<00:00,  1.11it/s]\n"
     ]
    }
   ],
   "source": [
    "#Load in the positive ICD group for BIDMC.\n",
    "df_icd_plus_BI = pd.read_csv('patientIDs_ICD_plus_SDH_BI.csv') \n",
    "\n",
    "#Reminder: The ICD minus group is defined as patients who never have received any SDH related ICDs.\n",
    "dfs = []\n",
    "\n",
    "#Creating a  loop that goes over all the keys to search for whether it contains the following ICD+ codes so it can exclude those with ICD+.\n",
    "for i in tqdm(range(1, (len(list(reader.keys()))+1))):   \n",
    "    df = reader[f'ICD_partition_{i}']\n",
    "    df = df[~df.DiagnosisCodeWithDots.astype(str).str.contains('^(?:I62.0|S06.5|432.1|852.2|852.3)')]  \n",
    "    df = df[['BDSPPatientID','AdmissionDate','BDSPEncounterID','DiagnosisCodeWithDots']]\n",
    "    dfs.append(df)\n",
    "\n",
    "    #To further save space, delete the df.\n",
    "    del df\n",
    "    gc.collect()\n",
    "\n",
    "#Concatenate all filtered dataframes from all partitions into one dataframe.\n",
    "df_icd_minus_BI = pd.concat(dfs, axis=0, ignore_index=True)  \n",
    "df_icd_minus_BI = df_icd_minus_BI[['BDSPPatientID','AdmissionDate','BDSPEncounterID']].drop_duplicates()\n",
    "\n",
    "#Conceptually the following code can be described as df_icd_minus = df_icd_minus - df_icd_plus\n",
    "df_icd_minus_BI = df_icd_minus_BI[ ~np.in1d(df_icd_minus_BI.BDSPPatientID, df_icd_plus_BI.BDSPPatientID) ]\n",
    "\n",
    "#Save as a CSV file\n",
    "df_icd_minus_BI.to_csv('patientIDs_ICD_minus2_SDH_BI.csv', index=False)   \n",
    "\n"
   ]
  }
 ],
 "metadata": {
  "kernelspec": {
   "display_name": "Python 3",
   "language": "python",
   "name": "python3"
  },
  "language_info": {
   "codemirror_mode": {
    "name": "ipython",
    "version": 3
   },
   "file_extension": ".py",
   "mimetype": "text/x-python",
   "name": "python",
   "nbconvert_exporter": "python",
   "pygments_lexer": "ipython3",
   "version": "3.11.9"
  }
 },
 "nbformat": 4,
 "nbformat_minor": 2
}
