{
 "cells": [
  {
   "cell_type": "code",
   "execution_count": 1,
   "metadata": {},
   "outputs": [],
   "source": [
    "import numpy as np\n",
    "import pandas as pd\n",
    "\n",
    "df_unique_random_MGB = pd.read_csv('/home/gregory178/Desktop/NAX project/NAX_SDH/BI_random_unique.csv')\n",
    "df_unique_random_BI = pd.read_csv('/home/gregory178/Desktop/NAX project/NAX_SDH/MGB_random_unique.csv')\n",
    "\n",
    "random_unique = pd.concat([df_unique_random_MGB, df_unique_random_BI], axis=0, ignore_index=True)\n",
    "\n",
    "df_pred_MGB = pd.read_csv('/home/gregory178/Desktop/NAX project/NAX_SDH/MGB_df_pred.csv')\n",
    "df_pred_BI = pd.read_csv('/home/gregory178/Desktop/NAX project/NAX_SDH/BI_df_pred.csv')\n",
    "df_pred = pd.concat([df_pred_MGB, df_pred_BI], axis=0, ignore_index=True)"
   ]
  },
  {
   "cell_type": "code",
   "execution_count": 2,
   "metadata": {},
   "outputs": [],
   "source": [
    "prev_ICD_p = sum(random_unique[\"ICD\"]) / len(random_unique)\n",
    "prev_ICD_n = sum(1-random_unique[\"ICD\"]) / len(random_unique)"
   ]
  },
  {
   "cell_type": "code",
   "execution_count": 3,
   "metadata": {},
   "outputs": [
    {
     "name": "stdout",
     "output_type": "stream",
     "text": [
      "0.006289278941516589\n"
     ]
    }
   ],
   "source": [
    "error_rater_ICD_p = 1 - np.mean( df_pred.y[df_pred.Group==1] == df_pred.y_pred[df_pred.Group==1] )\n",
    "error_rater_ICD_n = 1 - np.mean( df_pred.y[df_pred.Group==0] == df_pred.y_pred[df_pred.Group==0] )\n",
    "\n",
    "# get the final error rate!!\n",
    "final_error_rate = error_rater_ICD_p*prev_ICD_p + error_rater_ICD_n*prev_ICD_n\n",
    "\n",
    "print(final_error_rate)"
   ]
  }
 ],
 "metadata": {
  "kernelspec": {
   "display_name": "Python 3",
   "language": "python",
   "name": "python3"
  },
  "language_info": {
   "codemirror_mode": {
    "name": "ipython",
    "version": 3
   },
   "file_extension": ".py",
   "mimetype": "text/x-python",
   "name": "python",
   "nbconvert_exporter": "python",
   "pygments_lexer": "ipython3",
   "version": "3.11.9"
  }
 },
 "nbformat": 4,
 "nbformat_minor": 2
}
