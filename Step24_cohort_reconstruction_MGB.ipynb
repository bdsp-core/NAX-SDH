{
 "cells": [
  {
   "cell_type": "code",
   "execution_count": 1,
   "metadata": {},
   "outputs": [],
   "source": [
    "##Installing necessary modules to run the code. Make sure to install thunderpack if not yet installed: pip install thunderpack\n",
    "import numpy as np\n",
    "import pandas as pd\n",
    "from tqdm import tqdm\n",
    "from thunderpack import ThunderReader  \n",
    "import gc\n",
    "import re"
   ]
  },
  {
   "cell_type": "code",
   "execution_count": 2,
   "metadata": {},
   "outputs": [],
   "source": [
    "##We are now going to pull the BDSPPatientID, Admission date, and DiagnosisCodeWithDots for each patient.\n",
    "##We then need to randomly select 10,000 of them\n",
    "###Then we need to iterate for ICD code and make sure that the ICD code is within a cetain time period of them being seen. \n",
    "#Then we need to pull out the number of patients who have a positive ICD code. \n",
    "#Then we need to estimate the overall error rate\n",
    "\n",
    "#Start with MGB \n",
    "\n",
    "df=pd.read_csv(\"/home/gregory178/Desktop/NAX project/NAX_dive/complete_df_discharge.csv\")"
   ]
  },
  {
   "cell_type": "code",
   "execution_count": 3,
   "metadata": {},
   "outputs": [],
   "source": [
    "random = df.sample(frac=1, random_state=2024, ignore_index=True)\n",
    "unique = random.drop_duplicates(subset='BDSPPatientID', keep='first', ignore_index=True)\n",
    "random_unique = unique.sample(n=10000, random_state=2024, ignore_index=True)\n",
    "ids = list(random_unique['BDSPPatientID'])\n",
    "\n"
   ]
  },
  {
   "cell_type": "code",
   "execution_count": 4,
   "metadata": {},
   "outputs": [
    {
     "name": "stderr",
     "output_type": "stream",
     "text": [
      "100%|██████████| 511/511 [22:34<00:00,  2.65s/it]\n"
     ]
    }
   ],
   "source": [
    "reader = ThunderReader('/media/gregory178/Thunderpacks/Dropbox/zz_EHR_Thunderpacks/MGB/thunderpack_icd_9_10_1m_MGB')\n",
    "key_length = len(list(reader.keys()))\n",
    "dfs = []\n",
    "for i in tqdm(range(1, key_length + 1)):\n",
    "    df = reader[f'ICD_partition_{i}']\n",
    "    df = df[df['BDSPPatientID'].isin(ids)]\n",
    "    df  = df.drop(columns=['EncounterLineNBR', 'BDSPEncounterID', 'code_type', 'BDSPLastModifiedDTS', \n",
    "                                        'DiagnosisLinkedProblemID', 'DiagnosisChronicFLG', 'PrimaryDiagnosisFLG', \n",
    "                                        'DiagnosisDSC', 'DiagnosisNM', 'ICDDSC', 'ICDLineNBR', 'ShiftedUpdateDTS'])\n",
    "    df['ShiftedContactDTS'] = pd.to_datetime(df['ShiftedContactDTS'])\n",
    "    dfs.append(df)\n",
    "icd_df = pd.concat(dfs, axis=0, ignore_index=True)"
   ]
  },
  {
   "cell_type": "code",
   "execution_count": 5,
   "metadata": {},
   "outputs": [
    {
     "data": {
      "text/html": [
       "<div>\n",
       "<style scoped>\n",
       "    .dataframe tbody tr th:only-of-type {\n",
       "        vertical-align: middle;\n",
       "    }\n",
       "\n",
       "    .dataframe tbody tr th {\n",
       "        vertical-align: top;\n",
       "    }\n",
       "\n",
       "    .dataframe thead th {\n",
       "        text-align: right;\n",
       "    }\n",
       "</style>\n",
       "<table border=\"1\" class=\"dataframe\">\n",
       "  <thead>\n",
       "    <tr style=\"text-align: right;\">\n",
       "      <th></th>\n",
       "      <th>BDSPPatientID</th>\n",
       "      <th>ShiftedContactDTS</th>\n",
       "      <th>ICDCD</th>\n",
       "    </tr>\n",
       "  </thead>\n",
       "  <tbody>\n",
       "    <tr>\n",
       "      <th>0</th>\n",
       "      <td>113778980.0</td>\n",
       "      <td>2018-03-04</td>\n",
       "      <td>728.85</td>\n",
       "    </tr>\n",
       "    <tr>\n",
       "      <th>1</th>\n",
       "      <td>111737569.0</td>\n",
       "      <td>2021-06-17</td>\n",
       "      <td>719.45</td>\n",
       "    </tr>\n",
       "    <tr>\n",
       "      <th>2</th>\n",
       "      <td>114199398.0</td>\n",
       "      <td>2022-09-19</td>\n",
       "      <td>719.45</td>\n",
       "    </tr>\n",
       "    <tr>\n",
       "      <th>3</th>\n",
       "      <td>116668668.0</td>\n",
       "      <td>2021-04-01</td>\n",
       "      <td>411.1</td>\n",
       "    </tr>\n",
       "    <tr>\n",
       "      <th>4</th>\n",
       "      <td>111640020.0</td>\n",
       "      <td>2021-03-29</td>\n",
       "      <td>296.32</td>\n",
       "    </tr>\n",
       "  </tbody>\n",
       "</table>\n",
       "</div>"
      ],
      "text/plain": [
       "   BDSPPatientID ShiftedContactDTS   ICDCD\n",
       "0    113778980.0        2018-03-04  728.85\n",
       "1    111737569.0        2021-06-17  719.45\n",
       "2    114199398.0        2022-09-19  719.45\n",
       "3    116668668.0        2021-04-01   411.1\n",
       "4    111640020.0        2021-03-29  296.32"
      ]
     },
     "execution_count": 5,
     "metadata": {},
     "output_type": "execute_result"
    }
   ],
   "source": [
    "icd_df.head()"
   ]
  },
  {
   "cell_type": "code",
   "execution_count": 6,
   "metadata": {},
   "outputs": [
    {
     "data": {
      "text/html": [
       "<div>\n",
       "<style scoped>\n",
       "    .dataframe tbody tr th:only-of-type {\n",
       "        vertical-align: middle;\n",
       "    }\n",
       "\n",
       "    .dataframe tbody tr th {\n",
       "        vertical-align: top;\n",
       "    }\n",
       "\n",
       "    .dataframe thead th {\n",
       "        text-align: right;\n",
       "    }\n",
       "</style>\n",
       "<table border=\"1\" class=\"dataframe\">\n",
       "  <thead>\n",
       "    <tr style=\"text-align: right;\">\n",
       "      <th></th>\n",
       "      <th>BDSPPatientID</th>\n",
       "      <th>ContactDate</th>\n",
       "      <th>InpatientNoteTypeDSC</th>\n",
       "      <th>DeidentifiedName</th>\n",
       "    </tr>\n",
       "  </thead>\n",
       "  <tbody>\n",
       "    <tr>\n",
       "      <th>0</th>\n",
       "      <td>116622596</td>\n",
       "      <td>2019-01-30</td>\n",
       "      <td>Discharge Summary</td>\n",
       "      <td>Notes_13492329505_2726548681_20190130.txt</td>\n",
       "    </tr>\n",
       "    <tr>\n",
       "      <th>1</th>\n",
       "      <td>121898365</td>\n",
       "      <td>2019-08-13</td>\n",
       "      <td>Discharge Summary</td>\n",
       "      <td>Notes_13458257346_2404061611_20190813.txt</td>\n",
       "    </tr>\n",
       "    <tr>\n",
       "      <th>2</th>\n",
       "      <td>120766189</td>\n",
       "      <td>2021-05-20</td>\n",
       "      <td>Discharge Summary</td>\n",
       "      <td>Notes_13615779497_5860502858_20210520.txt</td>\n",
       "    </tr>\n",
       "    <tr>\n",
       "      <th>3</th>\n",
       "      <td>113679546</td>\n",
       "      <td>2022-04-03</td>\n",
       "      <td>Discharge Summary</td>\n",
       "      <td>Notes_13533032694_5821209330_20220403.txt</td>\n",
       "    </tr>\n",
       "    <tr>\n",
       "      <th>4</th>\n",
       "      <td>120497157</td>\n",
       "      <td>2022-09-21</td>\n",
       "      <td>Discharge Summary</td>\n",
       "      <td>Notes_13695542357_8521726987_20220921.txt</td>\n",
       "    </tr>\n",
       "  </tbody>\n",
       "</table>\n",
       "</div>"
      ],
      "text/plain": [
       "   BDSPPatientID ContactDate InpatientNoteTypeDSC  \\\n",
       "0      116622596  2019-01-30    Discharge Summary   \n",
       "1      121898365  2019-08-13    Discharge Summary   \n",
       "2      120766189  2021-05-20    Discharge Summary   \n",
       "3      113679546  2022-04-03    Discharge Summary   \n",
       "4      120497157  2022-09-21    Discharge Summary   \n",
       "\n",
       "                            DeidentifiedName  \n",
       "0  Notes_13492329505_2726548681_20190130.txt  \n",
       "1  Notes_13458257346_2404061611_20190813.txt  \n",
       "2  Notes_13615779497_5860502858_20210520.txt  \n",
       "3  Notes_13533032694_5821209330_20220403.txt  \n",
       "4  Notes_13695542357_8521726987_20220921.txt  "
      ]
     },
     "execution_count": 6,
     "metadata": {},
     "output_type": "execute_result"
    }
   ],
   "source": [
    "random_unique.head()"
   ]
  },
  {
   "cell_type": "code",
   "execution_count": 8,
   "metadata": {},
   "outputs": [],
   "source": [
    "import pandas as pd\n",
    "import re\n",
    "\n",
    "# Updated pattern\n",
    "pattern = re.compile(r'^(?:I62.0|S06.5|432.1|852.2|852.3)')\n",
    "\n",
    "def check_icd_in_period(id_, date):\n",
    "    # Convert date to pandas Timestamp if it's not already\n",
    "    if isinstance(date, str):\n",
    "        date = pd.to_datetime(date)\n",
    "        \n",
    "       # Define the date range (one month leading up to note)\n",
    "    start_date = date - pd.DateOffset(days=30)\n",
    "    end_date = date + pd.DateOffset(days=30)\n",
    "    \n",
    "    # Ensure ShiftedContactDTS is a pandas Timestamp\n",
    "    if not pd.api.types.is_datetime64_any_dtype(icd_df['ShiftedContactDTS']):\n",
    "        icd_df['ShiftedContactDTS'] = pd.to_datetime(icd_df['ShiftedContactDTS'])\n",
    "    \n",
    "    # Filter icd_df for matching ID and date range\n",
    "    mask = (icd_df['BDSPPatientID'] == id_) & (icd_df['ShiftedContactDTS'] > start_date) & (icd_df['ShiftedContactDTS'] < end_date)\n",
    "    filtered_df = icd_df.loc[mask]\n",
    "    \n",
    "    \n",
    "    # Check for regex pattern match in 'ICDCD' column\n",
    "    if filtered_df['ICDCD'].str.match(pattern).any():\n",
    "        return 1\n",
    "    return 0\n",
    "\n",
    "# Apply the function to each row of random_unique\n",
    "random_unique['ICD'] = random_unique.apply(lambda row: check_icd_in_period(row['BDSPPatientID'], row['ContactDate']), axis=1)\n"
   ]
  },
  {
   "cell_type": "code",
   "execution_count": 11,
   "metadata": {},
   "outputs": [
    {
     "name": "stdout",
     "output_type": "stream",
     "text": [
      "Total random patients: 10000\n",
      "Total +ICD: 214\n",
      "Total -ICD: 9786\n",
      "Prevalence: 0.0214\n"
     ]
    }
   ],
   "source": [
    "print(f'Total random patients: {len(random_unique)}')\n",
    "print(f'Total +ICD: {sum(random_unique[\"ICD\"])}')\n",
    "print(f'Total -ICD: {len(random_unique[random_unique[\"ICD\"] == 0])}')\n",
    "print(f'Prevalence: {sum(random_unique[\"ICD\"]) / len(random_unique)}')\n"
   ]
  },
  {
   "cell_type": "code",
   "execution_count": null,
   "metadata": {},
   "outputs": [
    {
     "name": "stdout",
     "output_type": "stream",
     "text": [
      "Final DataFrame with 10,000 unique BDSPPatientID rows saved successfully.\n"
     ]
    }
   ],
   "source": [
    "\n",
    "# # Sample 10,000 random rows with a specific random state for reproducibility\n",
    "# sampled_df = complete_df_initial.sample(n=10000, random_state=101)\n",
    "\n",
    "# # Find duplicated BDSPPatientID rows\n",
    "# duplicates_df = sampled_df[sampled_df.duplicated(subset='BDSPPatientID', keep=False)]\n",
    "\n",
    "# # Identify all duplicate IDs\n",
    "# duplicate_ids = duplicates_df['BDSPPatientID'].unique()\n",
    "\n",
    "# # Randomly select which duplicates to keep\n",
    "# def keep_random_duplicates(df, duplicate_ids):\n",
    "#     # For each duplicate ID, randomly select one occurrence to keep\n",
    "#     df_unique = pd.DataFrame()\n",
    "#     for patient_id in duplicate_ids:\n",
    "#         df_id = df[df['BDSPPatientID'] == patient_id]\n",
    "#         df_unique = pd.concat([df_unique, df_id.sample(n=1, random_state=102)])  # Randomly keep one instance\n",
    "    \n",
    "#     return df_unique\n",
    "\n",
    "# # Get one instance of each duplicate BDSPPatientID\n",
    "# unique_duplicates_df = keep_random_duplicates(sampled_df, duplicate_ids)\n",
    "\n",
    "# # Filter out the duplicates from the sampled_df\n",
    "# non_duplicate_df = sampled_df[~sampled_df['BDSPPatientID'].isin(duplicate_ids)]\n",
    "\n",
    "# # Combine the kept duplicates with non-duplicates\n",
    "# cleaned_sampled_df = pd.concat([non_duplicate_df, unique_duplicates_df], ignore_index=True)\n",
    "\n",
    "# # Check how many more rows are needed to reach 10,000 unique BDSPPatientID\n",
    "# current_unique_count = cleaned_sampled_df['BDSPPatientID'].nunique()\n",
    "# additional_rows_needed = 10000 - current_unique_count\n",
    "\n",
    "# if additional_rows_needed > 0:\n",
    "#     # Identify non-sampled patients\n",
    "#     remaining_patients = complete_df_initial[~complete_df_initial['BDSPPatientID'].isin(cleaned_sampled_df['BDSPPatientID'])]\n",
    "    \n",
    "#     # Sample additional rows to reach the desired count\n",
    "#     additional_df = remaining_patients.sample(n=additional_rows_needed, random_state=103)\n",
    "    \n",
    "#     # Combine cleaned sample with additional rows\n",
    "#     final_df = pd.concat([cleaned_sampled_df, additional_df], ignore_index=True)\n",
    "# else:\n",
    "#     final_df = cleaned_sampled_df\n",
    "\n",
    "# # Ensure final_df contains 10,000 unique BDSPPatientID values\n",
    "# final_df = final_df.drop_duplicates(subset='BDSPPatientID', keep='first')\n",
    "# final_df = final_df.reset_index(drop=True)\n",
    "\n",
    "# # Check for and remove any additional duplicates, ensuring exactly 10,000 rows\n",
    "# while final_df['BDSPPatientID'].nunique() < 10000:\n",
    "#     current_count = final_df['BDSPPatientID'].nunique()\n",
    "#     additional_needed = 10000 - current_count\n",
    "    \n",
    "#     remaining_patients = complete_df_initial[~complete_df_initial['BDSPPatientID'].isin(final_df['BDSPPatientID'])]\n",
    "#     additional_df = remaining_patients.sample(n=additional_needed, random_state=104)\n",
    "    \n",
    "#     final_df = pd.concat([final_df, additional_df], ignore_index=True)\n",
    "#     final_df = final_df.drop_duplicates(subset='BDSPPatientID', keep='first').reset_index(drop=True)\n",
    "\n",
    "# # Save the final DataFrame to a new CSV file\n",
    "# final_df.to_csv(\"/home/gregory178/Desktop/NAX project/FM_Draft_15/10000_rows_BI.csv\", index=False)\n",
    "\n",
    "# print(\"Final DataFrame with 10,000 unique BDSPPatientID rows saved successfully.\")\n",
    "\n"
   ]
  },
  {
   "cell_type": "code",
   "execution_count": null,
   "metadata": {},
   "outputs": [],
   "source": []
  }
 ],
 "metadata": {
  "kernelspec": {
   "display_name": "Python 3",
   "language": "python",
   "name": "python3"
  },
  "language_info": {
   "codemirror_mode": {
    "name": "ipython",
    "version": 3
   },
   "file_extension": ".py",
   "mimetype": "text/x-python",
   "name": "python",
   "nbconvert_exporter": "python",
   "pygments_lexer": "ipython3",
   "version": "3.11.9"
  }
 },
 "nbformat": 4,
 "nbformat_minor": 2
}
