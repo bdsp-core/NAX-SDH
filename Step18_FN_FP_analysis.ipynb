{
 "cells": [
  {
   "cell_type": "code",
   "execution_count": 12,
   "metadata": {},
   "outputs": [],
   "source": [
    "import pandas as pd\n",
    "\n",
    "#Load in the False Positives\n",
    "\n",
    "df_fp=pd.read_csv(\"/home/gregory178/Desktop/NAX project/FM_Draft_15/false_positive_ids.csv\")\n",
    "\n",
    "#Load in the False Negatives\n",
    "df_fn=pd.read_csv(\"/home/gregory178/Desktop/NAX project/FM_Draft_15/false_negative_ids.csv\")\n",
    "\n",
    "df_error=pd.read_csv(\"/home/gregory178/Desktop/NAX project/FM_Draft_15/notes_mgb_outliers.csv\")"
   ]
  },
  {
   "cell_type": "code",
   "execution_count": 8,
   "metadata": {},
   "outputs": [
    {
     "name": "stdout",
     "output_type": "stream",
     "text": [
      "Updated filtered rows with note content saved to /home/gregory178/Desktop/NAX project/FM_Draft_15/false_positives_with_notes.csv\n"
     ]
    }
   ],
   "source": [
    "\n",
    "# Step 1: Read filtered_rows.csv\n",
    "# Assume df_fp is already defined; if not, you would need to load it here.\n",
    "filtered_rows = df_fp  # This should be replaced with actual code if df_fp is not defined\n",
    "\n",
    "# Step 2: Define file paths for MGB_Complete_Notes.csv and BIDMC_Complete_Notes.csv\n",
    "file2_path = '/home/gregory178/Desktop/NAX project/NAX_dive/MGB_Complete_Notes.csv'\n",
    "file3_path = '/home/gregory178/Desktop/NAX project/NAX_dive/BIDMC_Complete_Notes.csv'\n",
    "\n",
    "# Step 3: Read MGB_Complete_Notes.csv and BIDMC_Complete_Notes.csv\n",
    "file2 = pd.read_csv(file2_path)\n",
    "file3 = pd.read_csv(file3_path)\n",
    "\n",
    "# Step 4: Merge note content based on BDSPPatientID\n",
    "merged_file2 = filtered_rows.merge(file2[['BDSPPatientID', 'NoteContent']], how='left', on='BDSPPatientID', suffixes=('', '_MGB'))\n",
    "merged_file3 = filtered_rows.merge(file3[['BDSPPatientID', 'NoteContent']], how='left', on='BDSPPatientID', suffixes=('', '_BIDMC'))\n",
    "\n",
    "# Step 5: Combine note content from both files into a single column NoteContent\n",
    "# Use fillna to prioritize content from the first file if present, otherwise use content from the second file\n",
    "filtered_rows['NoteContent'] = merged_file2['NoteContent'].fillna(merged_file3['NoteContent'])\n",
    "\n",
    "# Step 6: Save updated filtered_rows with NoteContent to a new CSV\n",
    "output_with_notes_path = '/home/gregory178/Desktop/NAX project/FM_Draft_15/false_positives_with_notes.csv'\n",
    "filtered_rows.to_csv(output_with_notes_path, index=False)\n",
    "\n",
    "print(f\"Updated filtered rows with note content saved to {output_with_notes_path}\")\n"
   ]
  },
  {
   "cell_type": "code",
   "execution_count": 9,
   "metadata": {},
   "outputs": [
    {
     "name": "stdout",
     "output_type": "stream",
     "text": [
      "Updated filtered rows with note content saved to /home/gregory178/Desktop/NAX project/FM_Draft_15/false_negatives_with_notes.csv\n"
     ]
    }
   ],
   "source": [
    "\n",
    "# Step 1: Read filtered_rows_neg.csv\n",
    "filtered_rows_neg = df_fn\n",
    "# Step 2: Define file paths for MGB_Complete_Notes.csv and BIDMC_Complete_Notes.csv\n",
    "file2_path = '/home/gregory178/Desktop/NAX project/NAX_dive/MGB_Complete_Notes.csv'\n",
    "file3_path = '/home/gregory178/Desktop/NAX project/NAX_dive/BIDMC_Complete_Notes.csv'\n",
    "\n",
    "# Step 3: Read MGB_Complete_Notes.csv and BIDMC_Complete_Notes.csv\n",
    "file2 = pd.read_csv(file2_path)\n",
    "file3 = pd.read_csv(file3_path)\n",
    "\n",
    "# Step 4: Merge note content based on BDSPPatientID\n",
    "merged_file2 = filtered_rows_neg.merge(file2, how='left', left_on='BDSPPatientID', right_on='BDSPPatientID')\n",
    "merged_file3 = filtered_rows_neg.merge(file3, how='left', left_on='BDSPPatientID', right_on='BDSPPatientID')\n",
    "\n",
    "# Step 4: Merge note content based on BDSPPatientID\n",
    "# merged_file2 = filtered_rows_neg.merge(file2, how='left', left_on='Unnamed: 0', right_on='BDSPPatientID')\n",
    "# merged_file3 = filtered_rows_neg.merge(file3, how='left', left_on='Unnamed: 0', right_on='BDSPPatientID')\n",
    "\n",
    "# Step 5: Combine note content from both files into a single column NoteContent\n",
    "filtered_rows_neg['NoteContent'] = merged_file2['NoteContent'].fillna(merged_file3['NoteContent'])\n",
    "\n",
    "\n",
    "# Step 6: Save updated filtered_rows_neg with NoteContent to a new CSV\n",
    "output_with_notes_path = '/home/gregory178/Desktop/NAX project/FM_Draft_15/false_negatives_with_notes.csv'\n",
    "filtered_rows_neg.to_csv(output_with_notes_path, index=False)\n",
    "\n",
    "print(f\"Updated filtered rows with note content saved to {output_with_notes_path}\")\n",
    "\n",
    "\n"
   ]
  },
  {
   "cell_type": "code",
   "execution_count": 10,
   "metadata": {},
   "outputs": [
    {
     "name": "stdout",
     "output_type": "stream",
     "text": [
      "Updated filtered rows with note content saved to /home/gregory178/Desktop/NAX project/FM_Draft_15/demographic_error_MGB_with_notes.csv\n"
     ]
    }
   ],
   "source": [
    "\n",
    "# Step 1: Read filtered_rows_error.csv\n",
    "# Assume df_fp is already defined; if not, you would need to load it here.\n",
    "filtered_rows_error = df_error  # This should be replaced with actual code if df_fp is not defined\n",
    "\n",
    "# Step 2: Define file paths for MGB_Complete_Notes.csv and BIDMC_Complete_Notes.csv\n",
    "file2_path = '/home/gregory178/Desktop/NAX project/NAX_dive/MGB_Complete_Notes.csv'\n",
    "file3_path = '/home/gregory178/Desktop/NAX project/NAX_dive/BIDMC_Complete_Notes.csv'\n",
    "\n",
    "# Step 3: Read MGB_Complete_Notes.csv and BIDMC_Complete_Notes.csv\n",
    "file2 = pd.read_csv(file2_path)\n",
    "file3 = pd.read_csv(file3_path)\n",
    "\n",
    "# Step 4: Merge note content based on BDSPPatientID\n",
    "merged_file2 = filtered_rows_error.merge(file2[['BDSPPatientID', 'NoteContent']], how='left', on='BDSPPatientID', suffixes=('', '_MGB'))\n",
    "merged_file3 = filtered_rows_error.merge(file3[['BDSPPatientID', 'NoteContent']], how='left', on='BDSPPatientID', suffixes=('', '_BIDMC'))\n",
    "\n",
    "# Step 5: Combine note content from both files into a single column NoteContent\n",
    "# Use fillna to prioritize content from the first file if present, otherwise use content from the second file\n",
    "filtered_rows_error['NoteContent'] = merged_file2['NoteContent'].fillna(merged_file3['NoteContent'])\n",
    "\n",
    "# Step 6: Save updated filtered_rows_error with NoteContent to a new CSV\n",
    "output_with_notes_path = '/home/gregory178/Desktop/NAX project/FM_Draft_15/demographic_error_MGB_with_notes.csv'\n",
    "filtered_rows_error.to_csv(output_with_notes_path, index=False)\n",
    "\n",
    "print(f\"Updated filtered rows with note content saved to {output_with_notes_path}\")\n"
   ]
  },
  {
   "cell_type": "code",
   "execution_count": 11,
   "metadata": {},
   "outputs": [],
   "source": [
    "# import pandas as pd\n",
    "\n",
    "# # Step 1: Read filtered_rows.csv\n",
    "# filtered_rows_path = '/home/gregory178/Desktop/NAX project/FM_Draft_5/filtered_rows.csv'\n",
    "# filtered_rows = pd.read_csv(filtered_rows_path)\n",
    "\n",
    "# # Step 2: Define file paths for MGB_Complete_Notes.csv and BIDMC_Complete_Notes.csv\n",
    "# file2_path = '/home/gregory178/Desktop/NAX project/NAX_dive/MGB_Complete_Notes.csv'\n",
    "# file3_path = '/home/gregory178/Desktop/NAX project/NAX_dive/BIDMC_Complete_Notes.csv'\n",
    "\n",
    "# # Step 3: Read MGB_Complete_Notes.csv and BIDMC_Complete_Notes.csv\n",
    "# file2 = pd.read_csv(file2_path)\n",
    "# file3 = pd.read_csv(file3_path)\n",
    "\n",
    "# # Step 4: Merge note content based on BDSPPatientID\n",
    "# merged_file2 = filtered_rows.merge(file2, how='left', left_on='Unnamed: 0', right_on='BDSPPatientID')\n",
    "# merged_file3 = filtered_rows.merge(file3, how='left', left_on='Unnamed: 0', right_on='BDSPPatientID')\n",
    "\n",
    "# # Step 5: Combine note content from both files into a single column NoteContent\n",
    "# filtered_rows['NoteContent'] = merged_file2['NoteContent'].fillna(merged_file3['NoteContent'])\n",
    "\n",
    "# # Step 6: Validate matches between Unnamed: 0/NoteContent and BDSPPatientID/NoteContent\n",
    "# for index, row in filtered_rows.iterrows():\n",
    "#     if pd.notna(row['BDSPPatientID']):\n",
    "#         if row['Unnamed: 0'] == row['BDSPPatientID'] and row['NoteContent_x'] == row['NoteContent_y']:\n",
    "#             print(f\"Row {index}: Matches\")\n",
    "#         else:\n",
    "#             print(f\"Row {index}: Doesn't match\")\n",
    "\n",
    "# # # Step 7: Save updated filtered_rows with NoteContent to a new CSV\n",
    "# # output_with_notes_path = '/home/gregory178/Desktop/NAX project/FM_Draft_5/filtered_rows_with_notes.csv'\n",
    "# # filtered_rows.to_csv(output_with_notes_path, index=False)\n",
    "\n",
    "# # print(f\"Updated filtered rows with note content saved to {output_with_notes_path}\")\n"
   ]
  }
 ],
 "metadata": {
  "kernelspec": {
   "display_name": "Python 3",
   "language": "python",
   "name": "python3"
  },
  "language_info": {
   "codemirror_mode": {
    "name": "ipython",
    "version": 3
   },
   "file_extension": ".py",
   "mimetype": "text/x-python",
   "name": "python",
   "nbconvert_exporter": "python",
   "pygments_lexer": "ipython3",
   "version": "3.11.9"
  }
 },
 "nbformat": 4,
 "nbformat_minor": 2
}
