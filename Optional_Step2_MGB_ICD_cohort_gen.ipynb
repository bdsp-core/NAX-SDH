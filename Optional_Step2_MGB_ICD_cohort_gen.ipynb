{
 "cells": [
  {
   "cell_type": "code",
   "execution_count": null,
   "metadata": {},
   "outputs": [],
   "source": [
    "#Optional step 2 creates the samping cohort for positive ICD codes for Mass General Hospital (MGB)\n",
    "#Reminder: ICD+ group is defined as patients who received at least one SDH-related ICD."
   ]
  },
  {
   "cell_type": "code",
   "execution_count": 2,
   "metadata": {},
   "outputs": [],
   "source": [
    "#Install all necessary modules to make code run. # Install thunderpack if not yet: \"pip install thunderpack\".\n",
    "import numpy as np \n",
    "import pandas as pd\n",
    "from tqdm import tqdm\n",
    "from thunderpack import ThunderReader  \n",
    "import gc\n"
   ]
  },
  {
   "cell_type": "code",
   "execution_count": 3,
   "metadata": {},
   "outputs": [],
   "source": [
    "#Read the thunderpack file\n",
    "reader = ThunderReader('/media/gregory178/Thunderpacks/Dropbox/zz_EHR_Thunderpacks/MGB/thunderpack_icd_9_10_1m_MGB') \n",
    "dfs = []\n",
    "\n",
    "#Creating a loop that goes over all the keys to search for whether or not it contains the following ICD+ codes.\n",
    "#Concatenate all filtered dataframes from all partitions into one dataframe.\n",
    "for i in tqdm(range(1, 511)):    \n",
    "    df = reader[f'ICD_partition_{i}']\n",
    "    df = df[df.ICDCD.astype(str).str.contains('^(?:I62.0|S06.5|432.1|852.2|852.3)')]  \n",
    "    dfs.append(df)\n",
    "df_icd_plus = pd.concat(dfs, axis=0, ignore_index=True) \n",
    "\n",
    "\n",
    "#Keep the unique patient IDs.\n",
    "df_icd_plus = df_icd_plus[['BDSPPatientID','ShiftedContactDTS','BDSPEncounterID', 'ICDCD']].drop_duplicates()\n",
    "df_icd_plus.to_csv('patientIDs_ICD_plus_SDH_MGB.csv', index=False)   "
   ]
  },
  {
   "cell_type": "code",
   "execution_count": 4,
   "metadata": {},
   "outputs": [
    {
     "name": "stderr",
     "output_type": "stream",
     "text": [
      "100%|██████████| 249/249 [12:42<00:00,  3.06s/it]\n"
     ]
    }
   ],
   "source": [
    "\n",
    "import pandas as pd\n",
    "import numpy as np\n",
    "import gc\n",
    "from tqdm import tqdm\n",
    "\n",
    "#Read the thunderpack file. \n",
    "reader = ThunderReader('/media/gregory178/Thunderpacks/Dropbox/zz_EHR_Thunderpacks/MGB/thunderpack_icd_9_10_1m_MGB')\n",
    "#The above code ^^^ is optional, only use if you decide to run these cells separately for memory purposes. \n",
    "\n",
    "#Load in the positive ICD group for MGB.\n",
    "df_icd_plus = pd.read_csv('patientIDs_ICD_plus_SDH_MGB.csv')\n",
    "\n",
    "#Reminder: ICD minus group is defined as patients who never have received any SDH-related ICDs\n",
    "dfs = []\n",
    "\n",
    "#Creating a loop that goes over all the keys to search for whether it contains the following ICD+ codes so it can exclude them.\n",
    "for i in tqdm(range(1, 250)):    \n",
    "    df = reader[f'ICD_partition_{i}']\n",
    "    df = df[~df.ICDCD.astype(str).str.contains('^(?:I62.0|S06.5|432.1|852.2|852.3)')]  \n",
    "    #Excluding 'ICDCD' here to save space, as it is not relevant to program.\n",
    "    df = df[['BDSPPatientID','ShiftedContactDTS','BDSPEncounterID']]   \n",
    "    dfs.append(df)\n",
    "    #To further save space, delete the df.\n",
    "    del df\n",
    "    gc.collect()\n",
    "\n",
    "#Concatenate all filtered dataframes from all partitions into one dataframe.\n",
    "df_icd_minus = pd.concat(dfs, axis=0, ignore_index=True)  \n",
    "df_icd_minus = df_icd_minus[['BDSPPatientID','ShiftedContactDTS','BDSPEncounterID']].drop_duplicates()\n",
    "\n",
    "#Conceptually the following code is: df_icd_minus = df_icd_minus - df_icd_plus.\n",
    "df_icd_minus = df_icd_minus[~np.in1d(df_icd_minus.BDSPPatientID, df_icd_plus.BDSPPatientID)]\n",
    "\n",
    "#Save as a CSV file without the ICD codes.\n",
    "df_icd_minus.to_csv('patientIDs_ICD_minus2_SDH_MGB.csv', index=False)"
   ]
  },
  {
   "cell_type": "code",
   "execution_count": 5,
   "metadata": {},
   "outputs": [
    {
     "name": "stderr",
     "output_type": "stream",
     "text": [
      "100%|██████████| 261/261 [13:49<00:00,  3.18s/it]\n"
     ]
    }
   ],
   "source": [
    "import pandas as pd\n",
    "import numpy as np\n",
    "import gc\n",
    "from tqdm import tqdm\n",
    "\n",
    "#Read the thunderpack file. \n",
    "reader = ThunderReader('/media/gregory178/Thunderpacks/Dropbox/zz_EHR_Thunderpacks/MGB/thunderpack_icd_9_10_1m_MGB')\n",
    "#The above code ^^^ is optional, only use if you decide to run these cells separately for memory purposes. \n",
    "\n",
    "#Load in the positive ICD group for MGB.\n",
    "df_icd_plus = pd.read_csv('patientIDs_ICD_plus_SDH_MGB.csv')\n",
    "\n",
    "#Reminder: ICD minus group is defined as patients who never have received any SDH-related ICDs\n",
    "dfs = []\n",
    "\n",
    "#Creating a loop that goes over all the keys to search for whether it contains the following ICD+ codes so it can exclude them.\n",
    "for i in tqdm(range(250, 511)):    \n",
    "    df = reader[f'ICD_partition_{i}']\n",
    "    df = df[~df.ICDCD.astype(str).str.contains('^(?:I62.0|S06.5|432.1|852.2|852.3)')]  \n",
    "    # Excluding 'ICDCD' here to save space, as it is not relevant to program.\n",
    "    df = df[['BDSPPatientID','ShiftedContactDTS','BDSPEncounterID']]   \n",
    "    dfs.append(df)\n",
    "\n",
    "    #To further save space, delete the df.\n",
    "    del df\n",
    "    gc.collect()\n",
    "\n",
    "#Concatenate all filtered dataframes from all partitions into one dataframe.\n",
    "df_icd_minus = pd.concat(dfs, axis=0, ignore_index=True)  \n",
    "df_icd_minus = df_icd_minus[['BDSPPatientID','ShiftedContactDTS','BDSPEncounterID']].drop_duplicates()\n",
    "\n",
    "#Conceptually the following code is: df_icd_minus = df_icd_minus - df_icd_plus.\n",
    "df_icd_minus = df_icd_minus[~np.in1d(df_icd_minus.BDSPPatientID, df_icd_plus.BDSPPatientID)]\n",
    "\n",
    "#Save as a CSV file without the ICD codes.\n",
    "df_icd_minus.to_csv('2patientIDs_ICD_minus2_SDH_MGB.csv', index=False)"
   ]
  },
  {
   "cell_type": "code",
   "execution_count": 6,
   "metadata": {},
   "outputs": [],
   "source": [
    "#Read in the two csvs as dataframes. \n",
    "df1 = pd.read_csv('patientIDs_ICD_minus2_SDH_MGB.csv')\n",
    "df2 = pd.read_csv('2patientIDs_ICD_minus2_SDH_MGB.csv')\n",
    "\n",
    "#Concatenate the dataframes.\n",
    "combined_df = pd.concat([df1, df2], axis=0, ignore_index=True)\n",
    "\n",
    "#Remove duplicate rows.\n",
    "combined_df = combined_df.drop_duplicates()\n",
    "\n",
    "#Save the combined dataframe to a new CSV file\n",
    "combined_df.to_csv('patientIDs_ICD_minus2_SDH_MGB.csv', index=False)"
   ]
  }
 ],
 "metadata": {
  "kernelspec": {
   "display_name": "Python 3",
   "language": "python",
   "name": "python3"
  },
  "language_info": {
   "codemirror_mode": {
    "name": "ipython",
    "version": 3
   },
   "file_extension": ".py",
   "mimetype": "text/x-python",
   "name": "python",
   "nbconvert_exporter": "python",
   "pygments_lexer": "ipython3",
   "version": "3.11.9"
  }
 },
 "nbformat": 4,
 "nbformat_minor": 2
}
