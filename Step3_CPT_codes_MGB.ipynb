{
 "cells": [
  {
   "cell_type": "code",
   "execution_count": 13,
   "metadata": {},
   "outputs": [],
   "source": [
    "import numpy as np\n",
    "import pandas as pd\n",
    "from tqdm import tqdm\n",
    "from thunderpack import ThunderReader  # install thunderpack if not yet: pip install thunderpack\n",
    "import gc\n",
    "\n",
    "\n"
   ]
  },
  {
   "cell_type": "code",
   "execution_count": 18,
   "metadata": {},
   "outputs": [
    {
     "name": "stderr",
     "output_type": "stream",
     "text": [
      "100%|██████████| 735/735 [22:26<00:00,  1.83s/it]\n"
     ]
    }
   ],
   "source": [
    "##TODO need to run the following code to get the sampling cohorts for both MGB and BIDMC\n",
    "\n",
    "# # read the thunderpack file\n",
    "reader = ThunderReader('/media/gregory178/Thunderpacks/Dropbox/zz_EHR_Thunderpacks/MGB/thunderpack_cpt_1m_MGB')\n",
    "\n",
    "# reminder: ICD+ group is defined as patients who got at least one SDH-related ICD\n",
    "dfs = []\n",
    "\n",
    "for i in tqdm(range(1, (len(list(reader.keys()))+1))):    # create a for loop to loop over all keys: ICD_partition_1, ICD_partition_2, ... You can find all keys by `print(list(reader.keys()))`\n",
    "    df = reader[f'cpt_partition_{i}']\n",
    "    df = df[df.CPT.astype(str).str.contains('^(?:70450|70460|70470|70551|70552|70553)')]  # for example, you want to filter and keep only ICDs that starts with G20 or 332.  '^(?:G20|332)' is a regular expression (regex).\n",
    "    dfs.append(df)\n",
    "df_cpt = pd.concat(dfs, axis=0, ignore_index=True)  # concatenate all filtered dataframes from all partitions into one dataframe\n",
    "# keep unique patient IDs\n",
    "df_cpt = df_cpt[['BDSPPatientID','CPT','StartDTS']].drop_duplicates()\n",
    "df_cpt.to_csv('patientIDs_CPT.csv', index=False)    # save as a CSV file\n"
   ]
  },
  {
   "cell_type": "code",
   "execution_count": null,
   "metadata": {},
   "outputs": [],
   "source": []
  }
 ],
 "metadata": {
  "kernelspec": {
   "display_name": "Python 3",
   "language": "python",
   "name": "python3"
  },
  "language_info": {
   "codemirror_mode": {
    "name": "ipython",
    "version": 3
   },
   "file_extension": ".py",
   "mimetype": "text/x-python",
   "name": "python",
   "nbconvert_exporter": "python",
   "pygments_lexer": "ipython3",
   "version": "3.1.undefined"
  }
 },
 "nbformat": 4,
 "nbformat_minor": 2
}
