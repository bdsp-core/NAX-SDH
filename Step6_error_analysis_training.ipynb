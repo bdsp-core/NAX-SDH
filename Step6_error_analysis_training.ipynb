{
 "cells": [
  {
   "cell_type": "code",
   "execution_count": 1,
   "metadata": {},
   "outputs": [],
   "source": [
    "#Step 6 can be used with the training data only to understand the importances of features in the training data and conduct error analysis.  \n",
    "#This step can also be used for error analysis of the testing data, however, do not input your testing data until you have run the jupyter notebooks for the testing data. \n",
    "#Once you have run your testing data, you cannot modify the data. This should be used for the testing data only to understand the feature importances. "
   ]
  },
  {
   "cell_type": "code",
   "execution_count": 2,
   "metadata": {},
   "outputs": [],
   "source": [
    "#Import all of the necessary modules. \n",
    "import pandas as pd\n",
    "\n",
    "#Read the CSV file.\n",
    "file_path = '/home/gregory178/Desktop/NAX project/NAX_SDH/train_data_.csv'\n",
    "df = pd.read_csv(file_path)\n"
   ]
  },
  {
   "cell_type": "code",
   "execution_count": 3,
   "metadata": {},
   "outputs": [
    {
     "name": "stdout",
     "output_type": "stream",
     "text": [
      "Number of times both chronic sdh_pos and annot are 1: 51\n",
      "Number of times chronic sdh_pos is 1 and annot is 0: 17\n",
      "Total number of times chronic sdh_pos is 1: 68\n",
      "Percentage of times both chronic sdh_pos and annot are 1: 75.00%\n",
      "Percentage of times chronic sdh_pos is 1 and annot is 0: 25.00%\n"
     ]
    }
   ],
   "source": [
    "#Error analysis. Replace the value of \"chronic sdh_pos\" with the feature you want to test to see how much it occurs and it's importance.\n",
    "\n",
    "#Count the occurrences where chronic_sdh_pos and annot are both 1.\n",
    "both_ones = ((df['chronic sdh_pos'] == 1) & (df['annot'] == 1)).sum()\n",
    "\n",
    "#Count the occurrences where chronic_sdh_pos is 1 and annot is 0.\n",
    "chronic_one_annot_zero = ((df['chronic sdh_pos'] == 1) & (df['annot'] == 0)).sum()\n",
    "\n",
    "#Count the total occurrences where chronic_sdh_pos is 1.\n",
    "total_chronic_sdh_pos_one = (df['chronic sdh_pos'] == 1).sum()\n",
    "\n",
    "#Calculate percentages.\n",
    "if total_chronic_sdh_pos_one > 0:\n",
    "    percent_both_ones = (both_ones / total_chronic_sdh_pos_one) * 100\n",
    "    percent_chronic_one_annot_zero = (chronic_one_annot_zero / total_chronic_sdh_pos_one) * 100\n",
    "else:\n",
    "    percent_both_ones = 0\n",
    "    percent_chronic_one_annot_zero = 0\n",
    "\n",
    "# Print results with exact numbers and percentages.\n",
    "print(f\"Number of times both chronic sdh_pos and annot are 1: {both_ones}\")\n",
    "print(f\"Number of times chronic sdh_pos is 1 and annot is 0: {chronic_one_annot_zero}\")\n",
    "print(f\"Total number of times chronic sdh_pos is 1: {total_chronic_sdh_pos_one}\")\n",
    "print(f\"Percentage of times both chronic sdh_pos and annot are 1: {percent_both_ones:.2f}%\")\n",
    "print(f\"Percentage of times chronic sdh_pos is 1 and annot is 0: {percent_chronic_one_annot_zero:.2f}%\")"
   ]
  },
  {
   "cell_type": "code",
   "execution_count": 4,
   "metadata": {},
   "outputs": [
    {
     "name": "stdout",
     "output_type": "stream",
     "text": [
      "Number of times both intracrani hemorrhag_pos and annot are 1: 29\n",
      "Number of times intracrani hemorrhag_pos is 1 and annot is 0: 23\n",
      "Total number of times intracrani hemorrhag_pos is 1: 52\n",
      "Percentage of times both intracrani hemorrhag_pos and annot are 1: 55.77%\n",
      "Percentage of times intracrani hemorrhag_pos is 1 and annot is 0: 44.23%\n"
     ]
    }
   ],
   "source": [
    "#Continue as needed, replacing the value in the parenthesis with the feature you want to test. \n",
    "#Here is an example \"chronic sdh_pos\" was replaced with \"intracrani hemorrhag_pos\".\n",
    "\n",
    "#Count the occurrences where intracranial_hemorrhage_positive and annot are both 1.\n",
    "both_ones = ((df['intracrani hemorrhag_pos'] == 1) & (df['annot'] == 1)).sum()\n",
    "\n",
    "#Count the occurrences where intracranial_hemorrhage_positive is 1 and annot is 0.\n",
    "chronic_one_annot_zero = ((df['intracrani hemorrhag_pos'] == 1) & (df['annot'] == 0)).sum()\n",
    "\n",
    "#Count the total occurrences where intracranial_hemorrhage_positive is 1.\n",
    "total_intracranial_hemorrhage_positive_one = (df['intracrani hemorrhag_pos'] == 1).sum()\n",
    "\n",
    "#Calculate the percentages.\n",
    "if total_intracranial_hemorrhage_positive_one > 0:\n",
    "    percent_both_ones = (both_ones / total_intracranial_hemorrhage_positive_one) * 100\n",
    "    percent_chronic_one_annot_zero = (chronic_one_annot_zero / total_intracranial_hemorrhage_positive_one) * 100\n",
    "else:\n",
    "    percent_both_ones = 0\n",
    "    percent_chronic_one_annot_zero = 0\n",
    "\n",
    "# Print results with exact numbers and percentages.\n",
    "print(f\"Number of times both intracrani hemorrhag_pos and annot are 1: {both_ones}\")\n",
    "print(f\"Number of times intracrani hemorrhag_pos is 1 and annot is 0: {chronic_one_annot_zero}\")\n",
    "print(f\"Total number of times intracrani hemorrhag_pos is 1: {total_intracranial_hemorrhage_positive_one}\")\n",
    "print(f\"Percentage of times both intracrani hemorrhag_pos and annot are 1: {percent_both_ones:.2f}%\")\n",
    "print(f\"Percentage of times intracrani hemorrhag_pos is 1 and annot is 0: {percent_chronic_one_annot_zero:.2f}%\")"
   ]
  },
  {
   "cell_type": "code",
   "execution_count": 5,
   "metadata": {},
   "outputs": [
    {
     "name": "stdout",
     "output_type": "stream",
     "text": [
      "Number of times both MRI and annot are 1: 202\n",
      "Number of times MRI is 1 and annot is 0: 379\n",
      "Total number of times MRI is 1: 581\n",
      "Percentage of times both MRI and annot are 1: 34.77%\n",
      "Percentage of times MRI is 1 and annot is 0: 65.23%\n"
     ]
    }
   ],
   "source": [
    "#Here is an example for the MRI CPT code. \n",
    "\n",
    "# Count the occurrences where MRI and annot are both 1\n",
    "both_ones = ((df['MRI'] == 1) & (df['annot'] == 1)).sum()\n",
    "\n",
    "# Count the occurrences where MRI is 1 and annot is 0\n",
    "chronic_one_annot_zero = ((df['MRI'] == 1) & (df['annot'] == 0)).sum()\n",
    "\n",
    "# Count the total occurrences where MRI is 1\n",
    "total_MRI_one = (df['MRI'] == 1).sum()\n",
    "\n",
    "# Calculate percentages\n",
    "if total_MRI_one > 0:\n",
    "    percent_both_ones = (both_ones / total_MRI_one) * 100\n",
    "    percent_chronic_one_annot_zero = (chronic_one_annot_zero / total_MRI_one) * 100\n",
    "else:\n",
    "    percent_both_ones = 0\n",
    "    percent_chronic_one_annot_zero = 0\n",
    "\n",
    "# Print results with exact numbers and percentages\n",
    "print(f\"Number of times both MRI and annot are 1: {both_ones}\")\n",
    "print(f\"Number of times MRI is 1 and annot is 0: {chronic_one_annot_zero}\")\n",
    "print(f\"Total number of times MRI is 1: {total_MRI_one}\")\n",
    "print(f\"Percentage of times both MRI and annot are 1: {percent_both_ones:.2f}%\")\n",
    "print(f\"Percentage of times MRI is 1 and annot is 0: {percent_chronic_one_annot_zero:.2f}%\")"
   ]
  },
  {
   "cell_type": "code",
   "execution_count": 6,
   "metadata": {},
   "outputs": [
    {
     "name": "stdout",
     "output_type": "stream",
     "text": [
      "Number of times both intraparenchym hemorrhag_pos and annot are 1: 11\n",
      "Number of times intraparenchym hemorrhag_pos is 1 and annot is 0: 9\n",
      "Total number of times intraparenchym hemorrhag_pos is 1: 20\n",
      "Percentage of times both intraparenchym hemorrhag_pos and annot are 1: 55.00%\n",
      "Percentage of times intraparenchym hemorrhag_pos is 1 and annot is 0: 45.00%\n"
     ]
    }
   ],
   "source": [
    "#Here is an example with intraparenchymal hemorrhage positive. \n",
    "\n",
    "# Count the occurrences where intraparenchym_hemorrhag_pos and annot are both 1\n",
    "both_ones = ((df['intraparenchym hemorrhag_pos'] == 1) & (df['annot'] == 1)).sum()\n",
    "\n",
    "# Count the occurrences where intraparenchym_hemorrhag_pos is 1 and annot is 0\n",
    "chronic_one_annot_zero = ((df['intraparenchym hemorrhag_pos'] == 1) & (df['annot'] == 0)).sum()\n",
    "\n",
    "# Count the total occurrences where intraparenchym_hemorrhag_pos is 1\n",
    "total_intraparenchym_hemorrhag_pos_one = (df['intraparenchym hemorrhag_pos'] == 1).sum()\n",
    "\n",
    "# Calculate percentages\n",
    "if total_intraparenchym_hemorrhag_pos_one > 0:\n",
    "    percent_both_ones = (both_ones / total_intraparenchym_hemorrhag_pos_one) * 100\n",
    "    percent_chronic_one_annot_zero = (chronic_one_annot_zero / total_intraparenchym_hemorrhag_pos_one) * 100\n",
    "else:\n",
    "    percent_both_ones = 0\n",
    "    percent_chronic_one_annot_zero = 0\n",
    "\n",
    "# Print results with exact numbers and percentages\n",
    "print(f\"Number of times both intraparenchym hemorrhag_pos and annot are 1: {both_ones}\")\n",
    "print(f\"Number of times intraparenchym hemorrhag_pos is 1 and annot is 0: {chronic_one_annot_zero}\")\n",
    "print(f\"Total number of times intraparenchym hemorrhag_pos is 1: {total_intraparenchym_hemorrhag_pos_one}\")\n",
    "print(f\"Percentage of times both intraparenchym hemorrhag_pos and annot are 1: {percent_both_ones:.2f}%\")\n",
    "print(f\"Percentage of times intraparenchym hemorrhag_pos is 1 and annot is 0: {percent_chronic_one_annot_zero:.2f}%\")"
   ]
  },
  {
   "cell_type": "code",
   "execution_count": 7,
   "metadata": {},
   "outputs": [
    {
     "name": "stdout",
     "output_type": "stream",
     "text": [
      "Number of times both known sdh_pos and annot are 1: 4\n",
      "Number of times known sdh_pos is 1 and annot is 0: 6\n",
      "Total number of times known sdh_pos is 1: 10\n",
      "Percentage of times both known sdh_pos and annot are 1: 40.00%\n",
      "Percentage of times known sdh_pos is 1 and annot is 0: 60.00%\n"
     ]
    }
   ],
   "source": [
    "#Here is an example with known sdh_pos.\n",
    "\n",
    "# Count the occurrences where known_sdh_pos and annot are both 1\n",
    "both_ones = ((df['known sdh_pos'] == 1) & (df['annot'] == 1)).sum()\n",
    "\n",
    "# Count the occurrences where known_sdh_pos is 1 and annot is 0\n",
    "chronic_one_annot_zero = ((df['known sdh_pos'] == 1) & (df['annot'] == 0)).sum()\n",
    "\n",
    "# Count the total occurrences where known_sdh_pos is 1\n",
    "total_known_sdh_pos_one = (df['known sdh_pos'] == 1).sum()\n",
    "\n",
    "# Calculate percentages\n",
    "if total_known_sdh_pos_one > 0:\n",
    "    percent_both_ones = (both_ones / total_known_sdh_pos_one) * 100\n",
    "    percent_chronic_one_annot_zero = (chronic_one_annot_zero / total_known_sdh_pos_one) * 100\n",
    "else:\n",
    "    percent_both_ones = 0\n",
    "    percent_chronic_one_annot_zero = 0\n",
    "\n",
    "# Print results with exact numbers and percentages\n",
    "print(f\"Number of times both known sdh_pos and annot are 1: {both_ones}\")\n",
    "print(f\"Number of times known sdh_pos is 1 and annot is 0: {chronic_one_annot_zero}\")\n",
    "print(f\"Total number of times known sdh_pos is 1: {total_known_sdh_pos_one}\")\n",
    "print(f\"Percentage of times both known sdh_pos and annot are 1: {percent_both_ones:.2f}%\")\n",
    "print(f\"Percentage of times known sdh_pos is 1 and annot is 0: {percent_chronic_one_annot_zero:.2f}%\")\n"
   ]
  },
  {
   "cell_type": "code",
   "execution_count": 8,
   "metadata": {},
   "outputs": [
    {
     "name": "stdout",
     "output_type": "stream",
     "text": [
      "Number of times both resolv sdh_pos and annot are 1: 0\n",
      "Number of times resolv sdh_pos is 1 and annot is 0: 1\n",
      "Total number of times resolv sdh_pos is 1: 1\n",
      "Percentage of times both resolv sdh_pos and annot are 1: 0.00%\n",
      "Percentage of times resolv sdh_pos is 1 and annot is 0: 100.00%\n"
     ]
    }
   ],
   "source": [
    "#Here is an example with resolved sdh_positive. \n",
    "\n",
    "# Count the occurrences where resolv_sdh_pos and annot are both 1\n",
    "both_ones = ((df['resolv sdh_pos'] == 1) & (df['annot'] == 1)).sum()\n",
    "\n",
    "# Count the occurrences where resolv_sdh_pos is 1 and annot is 0\n",
    "chronic_one_annot_zero = ((df['resolv sdh_pos'] == 1) & (df['annot'] == 0)).sum()\n",
    "\n",
    "# Count the total occurrences where resolv_sdh_pos is 1\n",
    "total_resolv_sdh_pos_one = (df['resolv sdh_pos'] == 1).sum()\n",
    "\n",
    "# Calculate percentages\n",
    "if total_resolv_sdh_pos_one > 0:\n",
    "    percent_both_ones = (both_ones / total_resolv_sdh_pos_one) * 100\n",
    "    percent_chronic_one_annot_zero = (chronic_one_annot_zero / total_resolv_sdh_pos_one) * 100\n",
    "else:\n",
    "    percent_both_ones = 0\n",
    "    percent_chronic_one_annot_zero = 0\n",
    "\n",
    "# Print results with exact numbers and percentages\n",
    "print(f\"Number of times both resolv sdh_pos and annot are 1: {both_ones}\")\n",
    "print(f\"Number of times resolv sdh_pos is 1 and annot is 0: {chronic_one_annot_zero}\")\n",
    "print(f\"Total number of times resolv sdh_pos is 1: {total_resolv_sdh_pos_one}\")\n",
    "print(f\"Percentage of times both resolv sdh_pos and annot are 1: {percent_both_ones:.2f}%\")\n",
    "print(f\"Percentage of times resolv sdh_pos is 1 and annot is 0: {percent_chronic_one_annot_zero:.2f}%\")\n"
   ]
  },
  {
   "cell_type": "code",
   "execution_count": 9,
   "metadata": {},
   "outputs": [
    {
     "name": "stdout",
     "output_type": "stream",
     "text": [
      "Number of times both drainag_pos and annot are 1: 67\n",
      "Number of times drainag_pos is 1 and annot is 0: 110\n",
      "Total number of times drainag_pos is 1: 177\n",
      "Percentage of times both drainag_pos and annot are 1: 37.85%\n",
      "Percentage of times drainag_pos is 1 and annot is 0: 62.15%\n"
     ]
    }
   ],
   "source": [
    "#Here is an example with drainage positive. \n",
    "\n",
    "# Count the occurrences where drainage_sdh_pos and annot are both 1\n",
    "both_ones = ((df['drainag_pos'] == 1) & (df['annot'] == 1)).sum()\n",
    "\n",
    "# Count the occurrences where drainage_sdh_pos is 1 and annot is 0\n",
    "drainage_one_annot_zero = ((df['drainag_pos'] == 1) & (df['annot'] == 0)).sum()\n",
    "\n",
    "# Count the total occurrences where drainage_sdh_pos is 1\n",
    "total_drainage_sdh_pos_one = (df['drainag_pos'] == 1).sum()\n",
    "\n",
    "# Calculate percentages\n",
    "if total_drainage_sdh_pos_one > 0:\n",
    "    percent_both_ones = (both_ones / total_drainage_sdh_pos_one) * 100\n",
    "    percent_drainage_one_annot_zero = (drainage_one_annot_zero / total_drainage_sdh_pos_one) * 100\n",
    "else:\n",
    "    percent_both_ones = 0\n",
    "    percent_drainage_one_annot_zero = 0\n",
    "\n",
    "# Print results with exact numbers and percentages\n",
    "print(f\"Number of times both drainag_pos and annot are 1: {both_ones}\")\n",
    "print(f\"Number of times drainag_pos is 1 and annot is 0: {drainage_one_annot_zero}\")\n",
    "print(f\"Total number of times drainag_pos is 1: {total_drainage_sdh_pos_one}\")\n",
    "print(f\"Percentage of times both drainag_pos and annot are 1: {percent_both_ones:.2f}%\")\n",
    "print(f\"Percentage of times drainag_pos is 1 and annot is 0: {percent_drainage_one_annot_zero:.2f}%\")\n"
   ]
  },
  {
   "cell_type": "code",
   "execution_count": 10,
   "metadata": {},
   "outputs": [
    {
     "name": "stdout",
     "output_type": "stream",
     "text": [
      "Updated filtered rows with note content saved to /home/gregory178/Desktop/NAX project/FP_with_notes.csv\n"
     ]
    }
   ],
   "source": [
    "#This code allows us to create csvs for the false positives and fales negatives that can be used in the annotation tool. \n",
    "#If you are going to input them into the annotation tool, please follow the same steps in the instruction tab except the file path should be the file path from this cell and not from the original ICD+ or ICD- sampling cohorts for each hospital.  \n",
    "\n",
    "# Step 1: Read filtered_rows.csv\n",
    "# filtered_rows_path = '/home/gregory178/Desktop/NAX project/filtered_rows.csv'\n",
    "filtered_rows = df\n",
    "\n",
    "# Step 2: Define file paths for MGB_Complete_Notes.csv and BIDMC_Complete_Notes.csv\n",
    "file2_path = '/home/gregory178/Desktop/NAX project/NAX_dive/MGB_Complete_Notes.csv'\n",
    "file3_path = '/home/gregory178/Desktop/NAX project/NAX_dive/BIDMC_Complete_Notes.csv'\n",
    "\n",
    "# Step 3: Read MGB_Complete_Notes.csv and BIDMC_Complete_Notes.csv\n",
    "file2 = pd.read_csv(file2_path)\n",
    "file3 = pd.read_csv(file3_path)\n",
    "\n",
    "# Step 4: Merge note content based on BDSPPatientID\n",
    "merged_file2 = filtered_rows.merge(file2, how='left', left_on='BDSPPatientID', right_on='BDSPPatientID')\n",
    "merged_file3 = filtered_rows.merge(file3, how='left', left_on='BDSPPatientID', right_on='BDSPPatientID')\n",
    "\n",
    "# Step 4: Merge note content based on BDSPPatientID\n",
    "# merged_file2 = filtered_rows.merge(file2, how='left', left_on='Unnamed: 0', right_on='BDSPPatientID')\n",
    "# merged_file3 = filtered_rows.merge(file3, how='left', left_on='Unnamed: 0', right_on='BDSPPatientID')\n",
    "\n",
    "# Step 5: Combine note content from both files into a single column NoteContent\n",
    "filtered_rows['NoteContent'] = merged_file2['NoteContent'].fillna(merged_file3['NoteContent'])\n",
    "\n",
    "# Step 6: Save updated filtered_rows with NoteContent to a new CSV\n",
    "output_with_notes_path = '/home/gregory178/Desktop/NAX project/FP_with_notes.csv'\n",
    "filtered_rows.to_csv(output_with_notes_path, index=False)\n",
    "print(f\"Updated filtered rows with note content saved to {output_with_notes_path}\")\n"
   ]
  }
 ],
 "metadata": {
  "kernelspec": {
   "display_name": "Python 3",
   "language": "python",
   "name": "python3"
  },
  "language_info": {
   "codemirror_mode": {
    "name": "ipython",
    "version": 3
   },
   "file_extension": ".py",
   "mimetype": "text/x-python",
   "name": "python",
   "nbconvert_exporter": "python",
   "pygments_lexer": "ipython3",
   "version": "3.11.9"
  }
 },
 "nbformat": 4,
 "nbformat_minor": 2
}
