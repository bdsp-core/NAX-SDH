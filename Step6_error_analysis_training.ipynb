{
 "cells": [
  {
   "cell_type": "code",
   "execution_count": 1,
   "metadata": {},
   "outputs": [
    {
     "name": "stdout",
     "output_type": "stream",
     "text": [
      "      Unnamed: 0  BDSPPatientID ContactDate  \\\n",
      "0              1      111971091  2021-05-30   \n",
      "1              2      114651683  2022-03-09   \n",
      "2              7      119901320  2019-11-16   \n",
      "3              8      118275800  2018-06-26   \n",
      "4              9      112639222  2019-03-24   \n",
      "...          ...            ...         ...   \n",
      "1494        2994      151096945  2018-05-01   \n",
      "1495        2995      150057113  2018-09-21   \n",
      "1496        2996      150740592  2010-10-10   \n",
      "1497        2998      150044220  2016-12-04   \n",
      "1498        2999      150028704  2020-11-04   \n",
      "\n",
      "                                   NoteFileName   Site  CT  MRI  acut sdh_pos  \\\n",
      "0     Notes_13517098931_6064385669_20210530.txt    MGB   0    1             0   \n",
      "1     Notes_13621620103_9363901699_20220309.txt    MGB   0    1             0   \n",
      "2     Notes_13558920758_4397237713_20191116.txt    MGB   0    1             0   \n",
      "3     Notes_13348747981_1847847386_20180626.txt    MGB   0    1             0   \n",
      "4     Notes_13406858565_3785302693_20190324.txt    MGB   0    1             0   \n",
      "...                                         ...    ...  ..  ...           ...   \n",
      "1494    Notes_1130955603_395017150_20180501.txt  BIDMC   0    0             0   \n",
      "1495   Notes_1129915942_2473056145_20180921.txt  BIDMC   0    0             0   \n",
      "1496   Notes_1130599114_1436450624_20101010.txt  BIDMC   0    0             0   \n",
      "1497   Notes_1129902668_2977113246_20161204.txt  BIDMC   0    0             0   \n",
      "1498  Notes_1129887208_12495579047_20201104.txt  BIDMC   0    0             0   \n",
      "\n",
      "      brain injuri_pos  brain mri_pos  ...  recent sdh_neg  resolv sdh_neg  \\\n",
      "0                    0              0  ...               0               0   \n",
      "1                    1              0  ...               0               0   \n",
      "2                    0              0  ...               0               0   \n",
      "3                    0              0  ...               0               0   \n",
      "4                    0              0  ...               0               0   \n",
      "...                ...            ...  ...             ...             ...   \n",
      "1494                 0              0  ...               0               0   \n",
      "1495                 1              0  ...               0               0   \n",
      "1496                 0              0  ...               0               0   \n",
      "1497                 0              0  ...               0               0   \n",
      "1498                 0              0  ...               0               0   \n",
      "\n",
      "      known sdh_neg  history_sdh  ICD_I62.0  ICD_S06.5  ICD_432.1  \\\n",
      "0                 0            0          0          1          1   \n",
      "1                 0            0          1          1          1   \n",
      "2                 0            0          0          1          1   \n",
      "3                 0            0          1          1          1   \n",
      "4                 0            0          1          1          1   \n",
      "...             ...          ...        ...        ...        ...   \n",
      "1494              0            0          0          0          0   \n",
      "1495              0            0          0          0          0   \n",
      "1496              0            0          0          0          0   \n",
      "1497              0            0          0          0          0   \n",
      "1498              0            0          0          0          0   \n",
      "\n",
      "      ICD_852.2or3  annot  hospital  \n",
      "0                0      1       MGB  \n",
      "1                0      1       MGB  \n",
      "2                0      1       MGB  \n",
      "3                0      1       MGB  \n",
      "4                0      1       MGB  \n",
      "...            ...    ...       ...  \n",
      "1494             0      0     BIDMC  \n",
      "1495             0      0     BIDMC  \n",
      "1496             0      0     BIDMC  \n",
      "1497             0      0     BIDMC  \n",
      "1498             0      0     BIDMC  \n",
      "\n",
      "[1499 rows x 78 columns]\n"
     ]
    }
   ],
   "source": [
    "import pandas as pd\n",
    "\n",
    "#Read the CSV file\n",
    "#This step can be used to better understand the training or testing data in error analysis.\n",
    "#Do not input testing information until after you have tested your features and can no longer modify them. \n",
    "file_path = '/home/gregory178/Desktop/NAX project/NAX_SDH/train_data_.csv'\n",
    "df = pd.read_csv(file_path)\n"
   ]
  },
  {
   "cell_type": "code",
   "execution_count": 2,
   "metadata": {},
   "outputs": [
    {
     "name": "stdout",
     "output_type": "stream",
     "text": [
      "Number of times both chronic sdh_pos and annot are 1: 49\n",
      "Number of times chronic sdh_pos is 1 and annot is 0: 19\n",
      "Total number of times chronic sdh_pos is 1: 68\n",
      "Percentage of times both chronic sdh_pos and annot are 1: 72.06%\n",
      "Percentage of times chronic sdh_pos is 1 and annot is 0: 27.94%\n"
     ]
    }
   ],
   "source": [
    "\n",
    "# Count the occurrences where chronic_sdh_pos and annot are both 1\n",
    "both_ones = ((df['chronic sdh_pos'] == 1) & (df['annot'] == 1)).sum()\n",
    "\n",
    "# Count the occurrences where chronic_sdh_pos is 1 and annot is 0\n",
    "chronic_one_annot_zero = ((df['chronic sdh_pos'] == 1) & (df['annot'] == 0)).sum()\n",
    "\n",
    "# Count the total occurrences where chronic_sdh_pos is 1\n",
    "total_chronic_sdh_pos_one = (df['chronic sdh_pos'] == 1).sum()\n",
    "\n",
    "# Calculate percentages\n",
    "if total_chronic_sdh_pos_one > 0:\n",
    "    percent_both_ones = (both_ones / total_chronic_sdh_pos_one) * 100\n",
    "    percent_chronic_one_annot_zero = (chronic_one_annot_zero / total_chronic_sdh_pos_one) * 100\n",
    "else:\n",
    "    percent_both_ones = 0\n",
    "    percent_chronic_one_annot_zero = 0\n",
    "\n",
    "# Print results with exact numbers and percentages\n",
    "print(f\"Number of times both chronic sdh_pos and annot are 1: {both_ones}\")\n",
    "print(f\"Number of times chronic sdh_pos is 1 and annot is 0: {chronic_one_annot_zero}\")\n",
    "print(f\"Total number of times chronic sdh_pos is 1: {total_chronic_sdh_pos_one}\")\n",
    "print(f\"Percentage of times both chronic sdh_pos and annot are 1: {percent_both_ones:.2f}%\")\n",
    "print(f\"Percentage of times chronic sdh_pos is 1 and annot is 0: {percent_chronic_one_annot_zero:.2f}%\")"
   ]
  },
  {
   "cell_type": "code",
   "execution_count": 3,
   "metadata": {},
   "outputs": [
    {
     "name": "stdout",
     "output_type": "stream",
     "text": [
      "Number of times both intracrani hemorrhag_pos and annot are 1: 32\n",
      "Number of times intracrani hemorrhag_pos is 1 and annot is 0: 21\n",
      "Total number of times intracrani hemorrhag_pos is 1: 53\n",
      "Percentage of times both intracrani hemorrhag_pos and annot are 1: 60.38%\n",
      "Percentage of times intracrani hemorrhag_pos is 1 and annot is 0: 39.62%\n"
     ]
    }
   ],
   "source": [
    "\n",
    "# Count the occurrences where chronic_sdh_pos and annot are both 1\n",
    "both_ones = ((df['intracrani hemorrhag_pos'] == 1) & (df['annot'] == 1)).sum()\n",
    "\n",
    "# Count the occurrences where chronic_sdh_pos is 1 and annot is 0\n",
    "chronic_one_annot_zero = ((df['intracrani hemorrhag_pos'] == 1) & (df['annot'] == 0)).sum()\n",
    "\n",
    "# Count the total occurrences where chronic_sdh_pos is 1\n",
    "total_chronic_sdh_pos_one = (df['intracrani hemorrhag_pos'] == 1).sum()\n",
    "\n",
    "# Calculate percentages\n",
    "if total_chronic_sdh_pos_one > 0:\n",
    "    percent_both_ones = (both_ones / total_chronic_sdh_pos_one) * 100\n",
    "    percent_chronic_one_annot_zero = (chronic_one_annot_zero / total_chronic_sdh_pos_one) * 100\n",
    "else:\n",
    "    percent_both_ones = 0\n",
    "    percent_chronic_one_annot_zero = 0\n",
    "\n",
    "# Print results with exact numbers and percentages\n",
    "print(f\"Number of times both intracrani hemorrhag_pos and annot are 1: {both_ones}\")\n",
    "print(f\"Number of times intracrani hemorrhag_pos is 1 and annot is 0: {chronic_one_annot_zero}\")\n",
    "print(f\"Total number of times intracrani hemorrhag_pos is 1: {total_chronic_sdh_pos_one}\")\n",
    "print(f\"Percentage of times both intracrani hemorrhag_pos and annot are 1: {percent_both_ones:.2f}%\")\n",
    "print(f\"Percentage of times intracrani hemorrhag_pos is 1 and annot is 0: {percent_chronic_one_annot_zero:.2f}%\")"
   ]
  },
  {
   "cell_type": "code",
   "execution_count": 49,
   "metadata": {},
   "outputs": [
    {
     "name": "stdout",
     "output_type": "stream",
     "text": [
      "Number of times both MRI and annot are 1: 194\n",
      "Number of times MRI is 1 and annot is 0: 376\n",
      "Total number of times MRI is 1: 570\n",
      "Percentage of times both MRI and annot are 1: 34.04%\n",
      "Percentage of times MRI is 1 and annot is 0: 65.96%\n"
     ]
    }
   ],
   "source": [
    "\n",
    "# Count the occurrences where chronic_sdh_pos and annot are both 1\n",
    "both_ones = ((df['MRI'] == 1) & (df['annot'] == 1)).sum()\n",
    "\n",
    "# Count the occurrences where chronic_sdh_pos is 1 and annot is 0\n",
    "chronic_one_annot_zero = ((df['MRI'] == 1) & (df['annot'] == 0)).sum()\n",
    "\n",
    "# Count the total occurrences where chronic_sdh_pos is 1\n",
    "total_chronic_sdh_pos_one = (df['MRI'] == 1).sum()\n",
    "\n",
    "# Calculate percentages\n",
    "if total_chronic_sdh_pos_one > 0:\n",
    "    percent_both_ones = (both_ones / total_chronic_sdh_pos_one) * 100\n",
    "    percent_chronic_one_annot_zero = (chronic_one_annot_zero / total_chronic_sdh_pos_one) * 100\n",
    "else:\n",
    "    percent_both_ones = 0\n",
    "    percent_chronic_one_annot_zero = 0\n",
    "\n",
    "# Print results with exact numbers and percentages\n",
    "print(f\"Number of times both MRI and annot are 1: {both_ones}\")\n",
    "print(f\"Number of times MRI is 1 and annot is 0: {chronic_one_annot_zero}\")\n",
    "print(f\"Total number of times MRI is 1: {total_chronic_sdh_pos_one}\")\n",
    "print(f\"Percentage of times both MRI and annot are 1: {percent_both_ones:.2f}%\")\n",
    "print(f\"Percentage of times MRI is 1 and annot is 0: {percent_chronic_one_annot_zero:.2f}%\")"
   ]
  },
  {
   "cell_type": "code",
   "execution_count": 41,
   "metadata": {},
   "outputs": [
    {
     "name": "stdout",
     "output_type": "stream",
     "text": [
      "Number of times both recent sdh_pos and annot are 1: 12\n",
      "Number of times recent sdh_pos is 1 and annot is 0: 8\n",
      "Total number of times recent sdh_pos is 1: 20\n",
      "Percentage of times both recent sdh_pos and annot are 1: 60.00%\n",
      "Percentage of times recent sdh_pos is 1 and annot is 0: 40.00%\n"
     ]
    }
   ],
   "source": [
    "\n",
    "# Count the occurrences where chronic_sdh_pos and annot are both 1\n",
    "both_ones = ((df['intraparenchym hemorrhag_pos'] == 1) & (df['annot'] == 1)).sum()\n",
    "\n",
    "# Count the occurrences where chronic_sdh_pos is 1 and annot is 0\n",
    "chronic_one_annot_zero = ((df['intraparenchym hemorrhag_pos'] == 1) & (df['annot'] == 0)).sum()\n",
    "\n",
    "# Count the total occurrences where chronic_sdh_pos is 1\n",
    "total_chronic_sdh_pos_one = (df['intraparenchym hemorrhag_pos'] == 1).sum()\n",
    "\n",
    "# Calculate percentages\n",
    "if total_chronic_sdh_pos_one > 0:\n",
    "    percent_both_ones = (both_ones / total_chronic_sdh_pos_one) * 100\n",
    "    percent_chronic_one_annot_zero = (chronic_one_annot_zero / total_chronic_sdh_pos_one) * 100\n",
    "else:\n",
    "    percent_both_ones = 0\n",
    "    percent_chronic_one_annot_zero = 0\n",
    "\n",
    "# Print results with exact numbers and percentages\n",
    "print(f\"Number of times both intraparenchym hemorrhag_pos and annot are 1: {both_ones}\")\n",
    "print(f\"Number of times intraparenchym hemorrhag_pos is 1 and annot is 0: {chronic_one_annot_zero}\")\n",
    "print(f\"Total number of times intraparenchym hemorrhag_pos is 1: {total_chronic_sdh_pos_one}\")\n",
    "print(f\"Percentage of times both intraparenchym hemorrhag_pos and annot are 1: {percent_both_ones:.2f}%\")\n",
    "print(f\"Percentage of times intraparenchym hemorrhag_pos is 1 and annot is 0: {percent_chronic_one_annot_zero:.2f}%\")"
   ]
  },
  {
   "cell_type": "code",
   "execution_count": 42,
   "metadata": {},
   "outputs": [
    {
     "name": "stdout",
     "output_type": "stream",
     "text": [
      "Number of times both known sdh_pos and annot are 1: 4\n",
      "Number of times known sdh_pos is 1 and annot is 0: 2\n",
      "Total number of times known sdh_pos is 1: 6\n",
      "Percentage of times both known sdh_pos and annot are 1: 66.67%\n",
      "Percentage of times known sdh_pos is 1 and annot is 0: 33.33%\n"
     ]
    }
   ],
   "source": [
    "\n",
    "# Count the occurrences where chronic_sdh_pos and annot are both 1\n",
    "both_ones = ((df['known sdh_pos'] == 1) & (df['annot'] == 1)).sum()\n",
    "\n",
    "# Count the occurrences where chronic_sdh_pos is 1 and annot is 0\n",
    "chronic_one_annot_zero = ((df['known sdh_pos'] == 1) & (df['annot'] == 0)).sum()\n",
    "\n",
    "# Count the total occurrences where chronic_sdh_pos is 1\n",
    "total_chronic_sdh_pos_one = (df['known sdh_pos'] == 1).sum()\n",
    "\n",
    "# Calculate percentages\n",
    "if total_chronic_sdh_pos_one > 0:\n",
    "    percent_both_ones = (both_ones / total_chronic_sdh_pos_one) * 100\n",
    "    percent_chronic_one_annot_zero = (chronic_one_annot_zero / total_chronic_sdh_pos_one) * 100\n",
    "else:\n",
    "    percent_both_ones = 0\n",
    "    percent_chronic_one_annot_zero = 0\n",
    "\n",
    "# Print results with exact numbers and percentages\n",
    "print(f\"Number of times both known sdh_pos and annot are 1: {both_ones}\")\n",
    "print(f\"Number of times known sdh_pos is 1 and annot is 0: {chronic_one_annot_zero}\")\n",
    "print(f\"Total number of times known sdh_pos is 1: {total_chronic_sdh_pos_one}\")\n",
    "print(f\"Percentage of times both known sdh_pos and annot are 1: {percent_both_ones:.2f}%\")\n",
    "print(f\"Percentage of times known sdh_pos is 1 and annot is 0: {percent_chronic_one_annot_zero:.2f}%\")\n"
   ]
  },
  {
   "cell_type": "code",
   "execution_count": 43,
   "metadata": {},
   "outputs": [
    {
     "name": "stdout",
     "output_type": "stream",
     "text": [
      "Number of times both resolv sdh_pos and annot are 1: 3\n",
      "Number of times resolv sdh_pos is 1 and annot is 0: 1\n",
      "Total number of times resolv sdh_pos is 1: 4\n",
      "Percentage of times both resolv sdh_pos and annot are 1: 75.00%\n",
      "Percentage of times resolv sdh_pos is 1 and annot is 0: 25.00%\n"
     ]
    }
   ],
   "source": [
    "\n",
    "# Count the occurrences where chronic_sdh_pos and annot are both 1\n",
    "both_ones = ((df['resolv sdh_pos'] == 1) & (df['annot'] == 1)).sum()\n",
    "\n",
    "# Count the occurrences where chronic_sdh_pos is 1 and annot is 0\n",
    "chronic_one_annot_zero = ((df['resolv sdh_pos'] == 1) & (df['annot'] == 0)).sum()\n",
    "\n",
    "# Count the total occurrences where chronic_sdh_pos is 1\n",
    "total_chronic_sdh_pos_one = (df['resolv sdh_pos'] == 1).sum()\n",
    "\n",
    "# Calculate percentages\n",
    "if total_chronic_sdh_pos_one > 0:\n",
    "    percent_both_ones = (both_ones / total_chronic_sdh_pos_one) * 100\n",
    "    percent_chronic_one_annot_zero = (chronic_one_annot_zero / total_chronic_sdh_pos_one) * 100\n",
    "else:\n",
    "    percent_both_ones = 0\n",
    "    percent_chronic_one_annot_zero = 0\n",
    "\n",
    "# Print results with exact numbers and percentages\n",
    "print(f\"Number of times both resolv sdh_pos and annot are 1: {both_ones}\")\n",
    "print(f\"Number of times resolv sdh_pos is 1 and annot is 0: {chronic_one_annot_zero}\")\n",
    "print(f\"Total number of times resolv sdh_pos is 1: {total_chronic_sdh_pos_one}\")\n",
    "print(f\"Percentage of times both resolv sdh_pos and annot are 1: {percent_both_ones:.2f}%\")\n",
    "print(f\"Percentage of times resolv sdh_pos is 1 and annot is 0: {percent_chronic_one_annot_zero:.2f}%\")\n"
   ]
  },
  {
   "cell_type": "code",
   "execution_count": 44,
   "metadata": {},
   "outputs": [
    {
     "name": "stdout",
     "output_type": "stream",
     "text": [
      "Number of times both drainag_pos and annot are 1: 64\n",
      "Number of times drainag_pos is 1 and annot is 0: 104\n",
      "Total number of times drainag_pos is 1: 168\n",
      "Percentage of times both drainag_pos and annot are 1: 38.10%\n",
      "Percentage of times drainag_pos is 1 and annot is 0: 61.90%\n"
     ]
    }
   ],
   "source": [
    "\n",
    "# Count the occurrences where chronic_sdh_pos and annot are both 1\n",
    "both_ones = ((df['drainag_pos'] == 1) & (df['annot'] == 1)).sum()\n",
    "\n",
    "# Count the occurrences where chronic_sdh_pos is 1 and annot is 0\n",
    "chronic_one_annot_zero = ((df['drainag_pos'] == 1) & (df['annot'] == 0)).sum()\n",
    "\n",
    "# Count the total occurrences where chronic_sdh_pos is 1\n",
    "total_chronic_sdh_pos_one = (df['drainag_pos'] == 1).sum()\n",
    "\n",
    "# Calculate percentages\n",
    "if total_chronic_sdh_pos_one > 0:\n",
    "    percent_both_ones = (both_ones / total_chronic_sdh_pos_one) * 100\n",
    "    percent_chronic_one_annot_zero = (chronic_one_annot_zero / total_chronic_sdh_pos_one) * 100\n",
    "else:\n",
    "    percent_both_ones = 0\n",
    "    percent_chronic_one_annot_zero = 0\n",
    "\n",
    "# Print results with exact numbers and percentages\n",
    "print(f\"Number of times both drainag_pos and annot are 1: {both_ones}\")\n",
    "print(f\"Number of times drainag_pos is 1 and annot is 0: {chronic_one_annot_zero}\")\n",
    "print(f\"Total number of times drainag_pos is 1: {total_chronic_sdh_pos_one}\")\n",
    "print(f\"Percentage of times both drainag_pos and annot are 1: {percent_both_ones:.2f}%\")\n",
    "print(f\"Percentage of times drainag_pos is 1 and annot is 0: {percent_chronic_one_annot_zero:.2f}%\")\n"
   ]
  },
  {
   "cell_type": "code",
   "execution_count": 12,
   "metadata": {},
   "outputs": [
    {
     "name": "stdout",
     "output_type": "stream",
     "text": [
      "Updated filtered rows with note content saved to /home/gregory178/Desktop/NAX project/FP_with_notes.csv\n"
     ]
    }
   ],
   "source": [
    "#This part allows us to input false positives and negatives and make csvs out of them that can use the annotation tool. \n",
    "\n",
    "# Step 1: Read filtered_rows.csv\n",
    "# filtered_rows_path = '/home/gregory178/Desktop/NAX project/filtered_rows.csv'\n",
    "filtered_rows = df\n",
    "# Step 2: Define file paths for MGB_Complete_Notes.csv and BIDMC_Complete_Notes.csv\n",
    "file2_path = '/home/gregory178/Desktop/NAX project/NAX_dive/MGB_Complete_Notes.csv'\n",
    "file3_path = '/home/gregory178/Desktop/NAX project/NAX_dive/BIDMC_Complete_Notes.csv'\n",
    "\n",
    "# Step 3: Read MGB_Complete_Notes.csv and BIDMC_Complete_Notes.csv\n",
    "file2 = pd.read_csv(file2_path)\n",
    "file3 = pd.read_csv(file3_path)\n",
    "\n",
    "# Step 4: Merge note content based on BDSPPatientID\n",
    "merged_file2 = filtered_rows.merge(file2, how='left', left_on='BDSPPatientID', right_on='BDSPPatientID')\n",
    "merged_file3 = filtered_rows.merge(file3, how='left', left_on='BDSPPatientID', right_on='BDSPPatientID')\n",
    "\n",
    "# Step 4: Merge note content based on BDSPPatientID\n",
    "# merged_file2 = filtered_rows.merge(file2, how='left', left_on='Unnamed: 0', right_on='BDSPPatientID')\n",
    "# merged_file3 = filtered_rows.merge(file3, how='left', left_on='Unnamed: 0', right_on='BDSPPatientID')\n",
    "\n",
    "# Step 5: Combine note content from both files into a single column NoteContent\n",
    "filtered_rows['NoteContent'] = merged_file2['NoteContent'].fillna(merged_file3['NoteContent'])\n",
    "\n",
    "# Step 6: Save updated filtered_rows with NoteContent to a new CSV\n",
    "output_with_notes_path = '/home/gregory178/Desktop/NAX project/FP_with_notes.csv'\n",
    "filtered_rows.to_csv(output_with_notes_path, index=False)\n",
    "\n",
    "print(f\"Updated filtered rows with note content saved to {output_with_notes_path}\")\n"
   ]
  }
 ],
 "metadata": {
  "kernelspec": {
   "display_name": "Python 3",
   "language": "python",
   "name": "python3"
  },
  "language_info": {
   "codemirror_mode": {
    "name": "ipython",
    "version": 3
   },
   "file_extension": ".py",
   "mimetype": "text/x-python",
   "name": "python",
   "nbconvert_exporter": "python",
   "pygments_lexer": "ipython3",
   "version": "3.11.9"
  }
 },
 "nbformat": 4,
 "nbformat_minor": 2
}
