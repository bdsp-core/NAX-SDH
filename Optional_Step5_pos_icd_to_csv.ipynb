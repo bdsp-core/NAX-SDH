{
 "cells": [
  {
   "cell_type": "code",
   "execution_count": null,
   "metadata": {},
   "outputs": [],
   "source": [
    "#Optional step 5 gathers the BDSPPatientIDs for each ICD+/- group for both hospitals."
   ]
  },
  {
   "cell_type": "code",
   "execution_count": 1,
   "metadata": {},
   "outputs": [],
   "source": [
    "#Import the necessary module\n",
    "import pandas as pd"
   ]
  },
  {
   "cell_type": "code",
   "execution_count": 2,
   "metadata": {},
   "outputs": [
    {
     "name": "stdout",
     "output_type": "stream",
     "text": [
      "BDSPPatientID column has been saved to /home/gregory178/Desktop/NAX project/NAX_SDH/BI_pos_BDSPPatientID_only.csv\n"
     ]
    }
   ],
   "source": [
    "#Making BIDMC positive ICD file\n",
    "BI_pos = \"/home/gregory178/Desktop/NAX project/NAX_SDH/BI_sampling_cohort_ICD+_initial_notes.csv\"\n",
    "output_file_path = \"/home/gregory178/Desktop/NAX project/NAX_SDH/BI_pos_BDSPPatientID_only.csv\"\n",
    "\n",
    "#Read the original CSV file\n",
    "bi_pos = pd.read_csv(BI_pos)\n",
    "\n",
    "#Extract the 'BDSPPatientID' column\n",
    "bdsp_patient_ids = bi_pos[['BDSPPatientID']]\n",
    "\n",
    "#Save the extracted column to a new CSV file\n",
    "bdsp_patient_ids.to_csv(output_file_path, index=False)\n",
    "\n",
    "print(f\"BDSPPatientID column has been saved to {output_file_path}\")"
   ]
  },
  {
   "cell_type": "code",
   "execution_count": null,
   "metadata": {},
   "outputs": [],
   "source": [
    "#Making MGB positive ICD file\n",
    "MGB_pos = \"/home/gregory178/Desktop/NAX project/NAX_SDH/MGB_sampling_cohort_ICD+_discharge_notes.csv\"\n",
    "output_file_path = \"/home/gregory178/Desktop/NAX project/NAX_SDH/MGB_pos_BDSPPatientID_only.csv\"\n",
    "\n",
    "#Read the original CSV file\n",
    "MGB_pos = pd.read_csv(MGB_pos)\n",
    "\n",
    "#Extract the 'BDSPPatientID' column\n",
    "bdsp_patient_ids = MGB_pos[['BDSPPatientID']]\n",
    "\n",
    "#Save the extracted column to a new CSV file\n",
    "bdsp_patient_ids.to_csv(output_file_path, index=False)\n",
    "\n",
    "print(f\"BDSPPatientID column has been saved to {output_file_path}\")"
   ]
  }
 ],
 "metadata": {
  "kernelspec": {
   "display_name": "Python 3",
   "language": "python",
   "name": "python3"
  },
  "language_info": {
   "codemirror_mode": {
    "name": "ipython",
    "version": 3
   },
   "file_extension": ".py",
   "mimetype": "text/x-python",
   "name": "python",
   "nbconvert_exporter": "python",
   "pygments_lexer": "ipython3",
   "version": "3.11.9"
  }
 },
 "nbformat": 4,
 "nbformat_minor": 2
}
