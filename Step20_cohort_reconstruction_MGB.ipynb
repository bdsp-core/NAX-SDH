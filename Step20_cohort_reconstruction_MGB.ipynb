{
 "cells": [
  {
   "cell_type": "code",
   "execution_count": null,
   "metadata": {},
   "outputs": [],
   "source": [
    "#Step 20 reconstructs a cohort for MGB to estimate the error rate of the program. "
   ]
  },
  {
   "cell_type": "code",
   "execution_count": 1,
   "metadata": {},
   "outputs": [],
   "source": [
    "#Install the necessary modules. \n",
    "import numpy as np\n",
    "import pandas as pd\n",
    "from tqdm import tqdm\n",
    "from thunderpack import ThunderReader  \n",
    "import gc\n",
    "import re"
   ]
  },
  {
   "cell_type": "code",
   "execution_count": 2,
   "metadata": {},
   "outputs": [],
   "source": [
    "#Read the MGB csv. \n",
    "df=pd.read_csv(\"/home/gregory178/Desktop/NAX project/NAX_SDH/complete_df_discharge.csv\")"
   ]
  },
  {
   "cell_type": "code",
   "execution_count": 3,
   "metadata": {},
   "outputs": [],
   "source": [
    "#Randomly shuffle the MGB dataset. \n",
    "random = df.sample(frac=1, random_state=2024, ignore_index=True)\n",
    "unique = random.drop_duplicates(subset='BDSPPatientID', keep='first', ignore_index=True)\n",
    "random_unique = unique.sample(n=10000, random_state=2024, ignore_index=True)\n",
    "ids = list(random_unique['BDSPPatientID'])"
   ]
  },
  {
   "cell_type": "code",
   "execution_count": 4,
   "metadata": {},
   "outputs": [
    {
     "name": "stderr",
     "output_type": "stream",
     "text": [
      "100%|██████████| 511/511 [23:52<00:00,  2.80s/it]\n"
     ]
    }
   ],
   "source": [
    "#Obtain the ICD codes from the MGB dataset. \n",
    "reader = ThunderReader('/media/gregory178/Thunderpacks/Dropbox/zz_EHR_Thunderpacks/MGB/thunderpack_icd_9_10_1m_MGB')\n",
    "key_length = len(list(reader.keys()))\n",
    "dfs = []\n",
    "for i in tqdm(range(1, key_length + 1)):\n",
    "    df = reader[f'ICD_partition_{i}']\n",
    "    df = df[df['BDSPPatientID'].isin(ids)]\n",
    "    df  = df.drop(columns=['EncounterLineNBR', 'BDSPEncounterID', 'code_type', 'BDSPLastModifiedDTS', \n",
    "                                        'DiagnosisLinkedProblemID', 'DiagnosisChronicFLG', 'PrimaryDiagnosisFLG', \n",
    "                                        'DiagnosisDSC', 'DiagnosisNM', 'ICDDSC', 'ICDLineNBR', 'ShiftedUpdateDTS'])\n",
    "    df['ShiftedContactDTS'] = pd.to_datetime(df['ShiftedContactDTS'])\n",
    "    dfs.append(df)\n",
    "icd_df = pd.concat(dfs, axis=0, ignore_index=True)"
   ]
  },
  {
   "cell_type": "code",
   "execution_count": 5,
   "metadata": {},
   "outputs": [
    {
     "data": {
      "text/html": [
       "<div>\n",
       "<style scoped>\n",
       "    .dataframe tbody tr th:only-of-type {\n",
       "        vertical-align: middle;\n",
       "    }\n",
       "\n",
       "    .dataframe tbody tr th {\n",
       "        vertical-align: top;\n",
       "    }\n",
       "\n",
       "    .dataframe thead th {\n",
       "        text-align: right;\n",
       "    }\n",
       "</style>\n",
       "<table border=\"1\" class=\"dataframe\">\n",
       "  <thead>\n",
       "    <tr style=\"text-align: right;\">\n",
       "      <th></th>\n",
       "      <th>BDSPPatientID</th>\n",
       "      <th>ShiftedContactDTS</th>\n",
       "      <th>ICDCD</th>\n",
       "    </tr>\n",
       "  </thead>\n",
       "  <tbody>\n",
       "    <tr>\n",
       "      <th>0</th>\n",
       "      <td>113778980.0</td>\n",
       "      <td>2018-03-04</td>\n",
       "      <td>728.85</td>\n",
       "    </tr>\n",
       "    <tr>\n",
       "      <th>1</th>\n",
       "      <td>111737569.0</td>\n",
       "      <td>2021-06-17</td>\n",
       "      <td>719.45</td>\n",
       "    </tr>\n",
       "    <tr>\n",
       "      <th>2</th>\n",
       "      <td>114199398.0</td>\n",
       "      <td>2022-09-19</td>\n",
       "      <td>719.45</td>\n",
       "    </tr>\n",
       "    <tr>\n",
       "      <th>3</th>\n",
       "      <td>116668668.0</td>\n",
       "      <td>2021-04-01</td>\n",
       "      <td>411.1</td>\n",
       "    </tr>\n",
       "    <tr>\n",
       "      <th>4</th>\n",
       "      <td>111640020.0</td>\n",
       "      <td>2021-03-29</td>\n",
       "      <td>296.32</td>\n",
       "    </tr>\n",
       "  </tbody>\n",
       "</table>\n",
       "</div>"
      ],
      "text/plain": [
       "   BDSPPatientID ShiftedContactDTS   ICDCD\n",
       "0    113778980.0        2018-03-04  728.85\n",
       "1    111737569.0        2021-06-17  719.45\n",
       "2    114199398.0        2022-09-19  719.45\n",
       "3    116668668.0        2021-04-01   411.1\n",
       "4    111640020.0        2021-03-29  296.32"
      ]
     },
     "execution_count": 5,
     "metadata": {},
     "output_type": "execute_result"
    }
   ],
   "source": [
    "#Head the dataset to ensure all columns added correctly. \n",
    "icd_df.head()"
   ]
  },
  {
   "cell_type": "code",
   "execution_count": 6,
   "metadata": {},
   "outputs": [
    {
     "data": {
      "text/html": [
       "<div>\n",
       "<style scoped>\n",
       "    .dataframe tbody tr th:only-of-type {\n",
       "        vertical-align: middle;\n",
       "    }\n",
       "\n",
       "    .dataframe tbody tr th {\n",
       "        vertical-align: top;\n",
       "    }\n",
       "\n",
       "    .dataframe thead th {\n",
       "        text-align: right;\n",
       "    }\n",
       "</style>\n",
       "<table border=\"1\" class=\"dataframe\">\n",
       "  <thead>\n",
       "    <tr style=\"text-align: right;\">\n",
       "      <th></th>\n",
       "      <th>BDSPPatientID</th>\n",
       "      <th>ContactDate</th>\n",
       "      <th>InpatientNoteTypeDSC</th>\n",
       "      <th>DeidentifiedName</th>\n",
       "    </tr>\n",
       "  </thead>\n",
       "  <tbody>\n",
       "    <tr>\n",
       "      <th>0</th>\n",
       "      <td>116622596</td>\n",
       "      <td>2019-01-30</td>\n",
       "      <td>Discharge Summary</td>\n",
       "      <td>Notes_13492329505_2726548681_20190130.txt</td>\n",
       "    </tr>\n",
       "    <tr>\n",
       "      <th>1</th>\n",
       "      <td>121898365</td>\n",
       "      <td>2019-08-13</td>\n",
       "      <td>Discharge Summary</td>\n",
       "      <td>Notes_13458257346_2404061611_20190813.txt</td>\n",
       "    </tr>\n",
       "    <tr>\n",
       "      <th>2</th>\n",
       "      <td>120766189</td>\n",
       "      <td>2021-05-20</td>\n",
       "      <td>Discharge Summary</td>\n",
       "      <td>Notes_13615779497_5860502858_20210520.txt</td>\n",
       "    </tr>\n",
       "    <tr>\n",
       "      <th>3</th>\n",
       "      <td>113679546</td>\n",
       "      <td>2022-04-03</td>\n",
       "      <td>Discharge Summary</td>\n",
       "      <td>Notes_13533032694_5821209330_20220403.txt</td>\n",
       "    </tr>\n",
       "    <tr>\n",
       "      <th>4</th>\n",
       "      <td>120497157</td>\n",
       "      <td>2022-09-21</td>\n",
       "      <td>Discharge Summary</td>\n",
       "      <td>Notes_13695542357_8521726987_20220921.txt</td>\n",
       "    </tr>\n",
       "  </tbody>\n",
       "</table>\n",
       "</div>"
      ],
      "text/plain": [
       "   BDSPPatientID ContactDate InpatientNoteTypeDSC  \\\n",
       "0      116622596  2019-01-30    Discharge Summary   \n",
       "1      121898365  2019-08-13    Discharge Summary   \n",
       "2      120766189  2021-05-20    Discharge Summary   \n",
       "3      113679546  2022-04-03    Discharge Summary   \n",
       "4      120497157  2022-09-21    Discharge Summary   \n",
       "\n",
       "                            DeidentifiedName  \n",
       "0  Notes_13492329505_2726548681_20190130.txt  \n",
       "1  Notes_13458257346_2404061611_20190813.txt  \n",
       "2  Notes_13615779497_5860502858_20210520.txt  \n",
       "3  Notes_13533032694_5821209330_20220403.txt  \n",
       "4  Notes_13695542357_8521726987_20220921.txt  "
      ]
     },
     "execution_count": 6,
     "metadata": {},
     "output_type": "execute_result"
    }
   ],
   "source": [
    "#Randomly head the dataset. \n",
    "random_unique.head()"
   ]
  },
  {
   "cell_type": "code",
   "execution_count": 7,
   "metadata": {},
   "outputs": [],
   "source": [
    "#Search for the ICD+ patients among the MGB data. \n",
    "pattern = re.compile(r'^(?:I62.0|S06.5|432.1|852.2|852.3)')\n",
    "\n",
    "def check_icd_in_period(id_, date):\n",
    "    #Convert date to pandas Timestamp if it's not already\n",
    "    if isinstance(date, str):\n",
    "        date = pd.to_datetime(date)\n",
    "        \n",
    "       #Define the date range (one month leading up to note)\n",
    "    start_date = date - pd.DateOffset(days=30)\n",
    "    end_date = date + pd.DateOffset(days=30)\n",
    "    \n",
    "    #Ensure ShiftedContactDTS is a pandas Timestamp\n",
    "    if not pd.api.types.is_datetime64_any_dtype(icd_df['ShiftedContactDTS']):\n",
    "        icd_df['ShiftedContactDTS'] = pd.to_datetime(icd_df['ShiftedContactDTS'])\n",
    "    \n",
    "    #Filter icd_df for matching ID and date range\n",
    "    mask = (icd_df['BDSPPatientID'] == id_) & (icd_df['ShiftedContactDTS'] > start_date) & (icd_df['ShiftedContactDTS'] < end_date)\n",
    "    filtered_df = icd_df.loc[mask]\n",
    "    \n",
    "    \n",
    "    #Check for regex pattern match in 'ICDCD' column\n",
    "    if filtered_df['ICDCD'].str.match(pattern).any():\n",
    "        return 1\n",
    "    return 0\n",
    "\n",
    "#Apply the function to each row of random_unique\n",
    "random_unique['ICD'] = random_unique.apply(lambda row: check_icd_in_period(row['BDSPPatientID'], row['ContactDate']), axis=1)\n"
   ]
  },
  {
   "cell_type": "code",
   "execution_count": 8,
   "metadata": {},
   "outputs": [
    {
     "name": "stdout",
     "output_type": "stream",
     "text": [
      "Total random patients: 10000\n",
      "Total +ICD: 237\n",
      "Total -ICD: 9763\n",
      "Prevalence: 0.0237\n"
     ]
    }
   ],
   "source": [
    "#Print the cohort reconstruction results. \n",
    "print(f'Total random patients: {len(random_unique)}')\n",
    "print(f'Total +ICD: {sum(random_unique[\"ICD\"])}')\n",
    "print(f'Total -ICD: {len(random_unique[random_unique[\"ICD\"] == 0])}')\n",
    "print(f'Prevalence: {sum(random_unique[\"ICD\"]) / len(random_unique)}')\n",
    "\n",
    "prev_ICD_p = sum(random_unique[\"ICD\"]) / len(random_unique)\n",
    "prev_ICD_n = sum(1-random_unique[\"ICD\"]) / len(random_unique)\n"
   ]
  },
  {
   "cell_type": "code",
   "execution_count": 16,
   "metadata": {},
   "outputs": [],
   "source": [
    "#Save the csv. \n",
    "random_unique.to_csv('MGB_random_unique.csv', index=False)"
   ]
  },
  {
   "cell_type": "code",
   "execution_count": 13,
   "metadata": {},
   "outputs": [],
   "source": [
    "#Load the testing feature matrix\n",
    "df_test = pd.read_csv('/home/gregory178/Desktop/NAX project/NAX_SDH/Complete_merged_feature_matrix_notes_CPT_and_ICD_.csv')\n",
    "\n",
    "#Load the model prediction for the testing feature matrix\n",
    "df_pred = pd.read_csv('MGB_y_and_y_pred.csv') \n",
    "df_pred = df_test.merge(df_pred, on='BDSPPatientID', how='inner', validate='1:1')\n",
    "df_icd_p = pd.read_csv('/home/gregory178/Desktop/NAX project/NAX_SDH/mgb_pos_icd.csv')\n",
    "df_pred['Group'] = np.in1d(df_pred.BDSPPatientID, df_icd_p.BDSPPatientID).astype(int)\n"
   ]
  },
  {
   "cell_type": "code",
   "execution_count": 14,
   "metadata": {},
   "outputs": [
    {
     "name": "stdout",
     "output_type": "stream",
     "text": [
      "750\n",
      "749\n"
     ]
    }
   ],
   "source": [
    "#Print the rows in each group. \n",
    "print((df_pred.Group==1).sum())\n",
    "print((df_pred.Group==0).sum())"
   ]
  },
  {
   "cell_type": "code",
   "execution_count": 17,
   "metadata": {},
   "outputs": [],
   "source": [
    "#Create a csv. \n",
    "df_pred.to_csv('MGB_df_pred.csv', index=False)"
   ]
  },
  {
   "cell_type": "code",
   "execution_count": 15,
   "metadata": {},
   "outputs": [
    {
     "name": "stdout",
     "output_type": "stream",
     "text": [
      "0.007196813885180288\n"
     ]
    }
   ],
   "source": [
    "#Get the error rate for MGB. \n",
    "error_rater_ICD_p = 1 - np.mean( df_pred.y[df_pred.Group==1] == df_pred.y_pred[df_pred.Group==1] )\n",
    "error_rater_ICD_n = 1 - np.mean( df_pred.y[df_pred.Group==0] == df_pred.y_pred[df_pred.Group==0] )\n",
    "final_error_rate = error_rater_ICD_p*prev_ICD_p + error_rater_ICD_n*prev_ICD_n\n",
    "print(final_error_rate)\n",
    "\n"
   ]
  }
 ],
 "metadata": {
  "kernelspec": {
   "display_name": "Python 3",
   "language": "python",
   "name": "python3"
  },
  "language_info": {
   "codemirror_mode": {
    "name": "ipython",
    "version": 3
   },
   "file_extension": ".py",
   "mimetype": "text/x-python",
   "name": "python",
   "nbconvert_exporter": "python",
   "pygments_lexer": "ipython3",
   "version": "3.11.9"
  }
 },
 "nbformat": 4,
 "nbformat_minor": 2
}
